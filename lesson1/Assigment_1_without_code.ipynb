{
 "cells": [
  {
   "cell_type": "code",
   "execution_count": 2,
   "metadata": {
    "collapsed": true
   },
   "outputs": [],
   "source": [
    "import pandas as pd\n",
    "import numpy as np\n",
    "import matplotlib.pyplot as plt"
   ]
  },
  {
   "cell_type": "markdown",
   "metadata": {},
   "source": [
    "## Exercise 1\n",
    "a) Load house sales data from file kc_house_data.csv, print first records.  \n",
    "b) Print the variable list. Select categorical and numerical variables.  \n",
    "c) Compute basic statistics of numerical variables. Are all of them meaningful?"
   ]
  },
  {
   "cell_type": "code",
   "execution_count": 3,
   "metadata": {
    "collapsed": false
   },
   "outputs": [
    {
     "name": "stdout",
     "output_type": "stream",
     "text": [
      "           id             date     price  bedrooms  bathrooms  sqft_living  \\\n",
      "0  7129300520  20141013T000000  221900.0         3       1.00         1180   \n",
      "1  6414100192  20141209T000000  538000.0         3       2.25         2570   \n",
      "2  5631500400  20150225T000000  180000.0         2       1.00          770   \n",
      "3  2487200875  20141209T000000  604000.0         4       3.00         1960   \n",
      "4  1954400510  20150218T000000  510000.0         3       2.00         1680   \n",
      "\n",
      "   sqft_lot  floors  waterfront  view     ...      grade  sqft_above  \\\n",
      "0      5650     1.0           0     0     ...          7        1180   \n",
      "1      7242     2.0           0     0     ...          7        2170   \n",
      "2     10000     1.0           0     0     ...          6         770   \n",
      "3      5000     1.0           0     0     ...          7        1050   \n",
      "4      8080     1.0           0     0     ...          8        1680   \n",
      "\n",
      "   sqft_basement  yr_built  yr_renovated  zipcode      lat     long  \\\n",
      "0              0      1955             0    98178  47.5112 -122.257   \n",
      "1            400      1951          1991    98125  47.7210 -122.319   \n",
      "2              0      1933             0    98028  47.7379 -122.233   \n",
      "3            910      1965             0    98136  47.5208 -122.393   \n",
      "4              0      1987             0    98074  47.6168 -122.045   \n",
      "\n",
      "   sqft_living15  sqft_lot15  \n",
      "0           1340        5650  \n",
      "1           1690        7639  \n",
      "2           2720        8062  \n",
      "3           1360        5000  \n",
      "4           1800        7503  \n",
      "\n",
      "[5 rows x 21 columns]\n"
     ]
    }
   ],
   "source": [
    "#a)\n",
    "#Your code:\n",
    "\n",
    "df = pd.read_csv('kc_house_data.csv')\n",
    "print(df.head())\n",
    "# print(df)\n",
    "#Hint: read_csv(), head()"
   ]
  },
  {
   "cell_type": "code",
   "execution_count": 4,
   "metadata": {
    "collapsed": false
   },
   "outputs": [
    {
     "name": "stdout",
     "output_type": "stream",
     "text": [
      "Index(['id', 'date', 'price', 'bedrooms', 'bathrooms', 'sqft_living',\n",
      "       'sqft_lot', 'floors', 'waterfront', 'view', 'condition', 'grade',\n",
      "       'sqft_above', 'sqft_basement', 'yr_built', 'yr_renovated', 'zipcode',\n",
      "       'lat', 'long', 'sqft_living15', 'sqft_lot15'],\n",
      "      dtype='object')\n"
     ]
    }
   ],
   "source": [
    "#b) \n",
    "print(df.keys())\n",
    "house_categorical_df = ['bedrooms','bathrooms','floors','view','condition','grade','zipcode']\n",
    "house_numerical_df = ['id','date','price','sqft_living','sqft_lot','waterfront','sqft_above','sqft_basement','yr_built','yr_renovated','lat','long','sqft_living15','sqft_lot15']\n",
    "\n"
   ]
  },
  {
   "cell_type": "code",
   "execution_count": 5,
   "metadata": {
    "collapsed": false,
    "scrolled": true
   },
   "outputs": [
    {
     "name": "stdout",
     "output_type": "stream",
     "text": [
      "                 id         price   sqft_living      sqft_lot    waterfront  \\\n",
      "count  2.161300e+04  2.161300e+04  21613.000000  2.161300e+04  21613.000000   \n",
      "mean   4.580302e+09  5.400881e+05   2079.899736  1.510697e+04      0.007542   \n",
      "std    2.876566e+09  3.671272e+05    918.440897  4.142051e+04      0.086517   \n",
      "min    1.000102e+06  7.500000e+04    290.000000  5.200000e+02      0.000000   \n",
      "25%    2.123049e+09  3.219500e+05   1427.000000  5.040000e+03      0.000000   \n",
      "50%    3.904930e+09  4.500000e+05   1910.000000  7.618000e+03      0.000000   \n",
      "75%    7.308900e+09  6.450000e+05   2550.000000  1.068800e+04      0.000000   \n",
      "max    9.900000e+09  7.700000e+06  13540.000000  1.651359e+06      1.000000   \n",
      "\n",
      "         sqft_above  sqft_basement      yr_built  yr_renovated           lat  \\\n",
      "count  21613.000000   21613.000000  21613.000000  21613.000000  21613.000000   \n",
      "mean    1788.390691     291.509045   1971.005136     84.402258     47.560053   \n",
      "std      828.090978     442.575043     29.373411    401.679240      0.138564   \n",
      "min      290.000000       0.000000   1900.000000      0.000000     47.155900   \n",
      "25%     1190.000000       0.000000   1951.000000      0.000000     47.471000   \n",
      "50%     1560.000000       0.000000   1975.000000      0.000000     47.571800   \n",
      "75%     2210.000000     560.000000   1997.000000      0.000000     47.678000   \n",
      "max     9410.000000    4820.000000   2015.000000   2015.000000     47.777600   \n",
      "\n",
      "               long  sqft_living15     sqft_lot15  \n",
      "count  21613.000000   21613.000000   21613.000000  \n",
      "mean    -122.213896    1986.552492   12768.455652  \n",
      "std        0.140828     685.391304   27304.179631  \n",
      "min     -122.519000     399.000000     651.000000  \n",
      "25%     -122.328000    1490.000000    5100.000000  \n",
      "50%     -122.230000    1840.000000    7620.000000  \n",
      "75%     -122.125000    2360.000000   10083.000000  \n",
      "max     -121.315000    6210.000000  871200.000000  \n"
     ]
    }
   ],
   "source": [
    "#c)\n",
    "#Your code:\n",
    "# df2 = df\n",
    "print(df[house_numerical_df].describe())\n",
    "\n",
    "#Hint: Function describe()"
   ]
  },
  {
   "cell_type": "markdown",
   "metadata": {},
   "source": [
    "## Exercise 2\n",
    "Using scatter plot:  \n",
    "a) Show the relation of square footage and price.  \n",
    "b) Check how price is influenced by apartment's grade. Find other variables correlated with price.  \n",
    "c) Check how good apartments are distributed over the city. First, plot zipcode versus price. Then, use apartments coordinates (longitude and lattitude) in order to show where apartments of good grade are located. "
   ]
  },
  {
   "cell_type": "code",
   "execution_count": 6,
   "metadata": {
    "collapsed": false
   },
   "outputs": [
    {
     "data": {
      "text/plain": [
       "<matplotlib.collections.PathCollection at 0x7fb3ec6a1198>"
      ]
     },
     "execution_count": 6,
     "metadata": {},
     "output_type": "execute_result"
    },
    {
     "data": {
      "image/png": "[encoded data removed]",
      "text/plain": [
       "<Figure size 432x288 with 1 Axes>"
      ]
     },
     "metadata": {
      "needs_background": "light"
     },
     "output_type": "display_data"
    }
   ],
   "source": [
    "#a)\n",
    "#Your code:\n",
    "\n",
    "plt.scatter(df.sqft_living, df.price)\n",
    "#Hint plt.scatter"
   ]
  },
  {
   "cell_type": "code",
   "execution_count": 7,
   "metadata": {
    "collapsed": false
   },
   "outputs": [
    {
     "name": "stdout",
     "output_type": "stream",
     "text": [
      "0         7\n",
      "1         7\n",
      "2         6\n",
      "3         7\n",
      "4         8\n",
      "5        11\n",
      "6         7\n",
      "7         7\n",
      "8         7\n",
      "9         7\n",
      "10        8\n",
      "11        7\n",
      "12        7\n",
      "13        7\n",
      "14        7\n",
      "15        9\n",
      "16        7\n",
      "17        7\n",
      "18        7\n",
      "19        7\n",
      "20        7\n",
      "21        9\n",
      "22        8\n",
      "23        7\n",
      "24        8\n",
      "25        6\n",
      "26        8\n",
      "27        8\n",
      "28        7\n",
      "29        8\n",
      "         ..\n",
      "21583     7\n",
      "21584     7\n",
      "21585     7\n",
      "21586     8\n",
      "21587     8\n",
      "21588     8\n",
      "21589     8\n",
      "21590    11\n",
      "21591     8\n",
      "21592     8\n",
      "21593    10\n",
      "21594     8\n",
      "21595     8\n",
      "21596     9\n",
      "21597    10\n",
      "21598     9\n",
      "21599     9\n",
      "21600    11\n",
      "21601     8\n",
      "21602     6\n",
      "21603     8\n",
      "21604     8\n",
      "21605     9\n",
      "21606     9\n",
      "21607     8\n",
      "21608     8\n",
      "21609     8\n",
      "21610     7\n",
      "21611     8\n",
      "21612     7\n",
      "Name: grade, Length: 21613, dtype: int64\n",
      "0         221900.0\n",
      "1         538000.0\n",
      "2         180000.0\n",
      "3         604000.0\n",
      "4         510000.0\n",
      "5        1225000.0\n",
      "6         257500.0\n",
      "7         291850.0\n",
      "8         229500.0\n",
      "9         323000.0\n",
      "10        662500.0\n",
      "11        468000.0\n",
      "12        310000.0\n",
      "13        400000.0\n",
      "14        530000.0\n",
      "15        650000.0\n",
      "16        395000.0\n",
      "17        485000.0\n",
      "18        189000.0\n",
      "19        230000.0\n",
      "20        385000.0\n",
      "21       2000000.0\n",
      "22        285000.0\n",
      "23        252700.0\n",
      "24        329000.0\n",
      "25        233000.0\n",
      "26        937000.0\n",
      "27        667000.0\n",
      "28        438000.0\n",
      "29        719000.0\n",
      "           ...    \n",
      "21583     399950.0\n",
      "21584     380000.0\n",
      "21585     270000.0\n",
      "21586     505000.0\n",
      "21587     385000.0\n",
      "21588     414500.0\n",
      "21589     347500.0\n",
      "21590    1222500.0\n",
      "21591     572000.0\n",
      "21592     475000.0\n",
      "21593    1088000.0\n",
      "21594     350000.0\n",
      "21595     520000.0\n",
      "21596     679950.0\n",
      "21597    1575000.0\n",
      "21598     541800.0\n",
      "21599     810000.0\n",
      "21600    1537000.0\n",
      "21601     467000.0\n",
      "21602     224000.0\n",
      "21603     507250.0\n",
      "21604     429000.0\n",
      "21605     610685.0\n",
      "21606    1007500.0\n",
      "21607     475000.0\n",
      "21608     360000.0\n",
      "21609     400000.0\n",
      "21610     402101.0\n",
      "21611     400000.0\n",
      "21612     325000.0\n",
      "Name: price, Length: 21613, dtype: float64\n"
     ]
    },
    {
     "data": {
      "text/plain": [
       "<matplotlib.collections.PathCollection at 0x7fb3ec5ca978>"
      ]
     },
     "execution_count": 7,
     "metadata": {},
     "output_type": "execute_result"
    },
    {
     "data": {
      "image/png": "[encoded data removed]",
      "text/plain": [
       "<Figure size 432x288 with 1 Axes>"
      ]
     },
     "metadata": {
      "needs_background": "light"
     },
     "output_type": "display_data"
    }
   ],
   "source": [
    "#b)\n",
    "#Your code:\n",
    "print(df.grade)\n",
    "print(df.price)\n",
    "plt.scatter(df.grade, df.price)\n"
   ]
  },
  {
   "cell_type": "code",
   "execution_count": 7,
   "metadata": {
    "collapsed": false
   },
   "outputs": [
    {
     "data": {
      "text/plain": [
       "<matplotlib.collections.PathCollection at 0x7fe757009710>"
      ]
     },
     "execution_count": 7,
     "metadata": {},
     "output_type": "execute_result"
    },
    {
     "data": {
      "image/png": "[encoded data removed]",
      "text/plain": [
       "<Figure size 432x288 with 1 Axes>"
      ]
     },
     "metadata": {
      "needs_background": "light"
     },
     "output_type": "display_data"
    }
   ],
   "source": [
    "#c)\n",
    "#Your code:\n",
    "\n",
    "plt.scatter(df.zipcode, df.sqft_above)\n"
   ]
  },
  {
   "cell_type": "code",
   "execution_count": 8,
   "metadata": {
    "collapsed": false
   },
   "outputs": [
    {
     "data": {
      "text/plain": [
       "<matplotlib.collections.PathCollection at 0x7fe756fe8898>"
      ]
     },
     "execution_count": 8,
     "metadata": {},
     "output_type": "execute_result"
    },
    {
     "data": {
      "image/png": "[encoded data removed]",
      "text/plain": [
       "<Figure size 432x288 with 1 Axes>"
      ]
     },
     "metadata": {
      "needs_background": "light"
     },
     "output_type": "display_data"
    }
   ],
   "source": [
    "#Your code:\n",
    "\n",
    "plt.scatter(df.long, df.lat, c = df.price, s = 50)\n"
   ]
  },
  {
   "cell_type": "markdown",
   "metadata": {},
   "source": [
    "## Exercise 3\n",
    "a) Create boxplot of apartment's grade versus it's price. Compare with plot 2b).  \n",
    "b) Create mosaic plot of any two categorical variables."
   ]
  },
  {
   "cell_type": "code",
   "execution_count": 9,
   "metadata": {
    "collapsed": false
   },
   "outputs": [
    {
     "data": {
      "text/plain": [
       "<matplotlib.axes._subplots.AxesSubplot at 0x7fe756cb1518>"
      ]
     },
     "execution_count": 9,
     "metadata": {},
     "output_type": "execute_result"
    },
    {
     "data": {
      "image/png": "[encoded data removed]",
      "text/plain": [
       "<Figure size 432x288 with 1 Axes>"
      ]
     },
     "metadata": {
      "needs_background": "light"
     },
     "output_type": "display_data"
    }
   ],
   "source": [
    "#a)\n",
    "#Your code:\n",
    "# plt.boxplot()\n",
    "# plt.boxplot(df.grade, df.price)\n",
    "df.boxplot(column='price', by='grade')\n",
    "#Hint: plt.boxplot"
   ]
  },
  {
   "cell_type": "code",
   "execution_count": 10,
   "metadata": {
    "collapsed": false
   },
   "outputs": [
    {
     "ename": "ModuleNotFoundError",
     "evalue": "No module named 'statsmodels'",
     "output_type": "error",
     "traceback": [
      "\u001b[0;31m---------------------------------------------------------------------------\u001b[0m",
      "\u001b[0;31mModuleNotFoundError\u001b[0m                       Traceback (most recent call last)",
      "\u001b[0;32m<ipython-input-10-e51c3d77bed5>\u001b[0m in \u001b[0;36m<module>\u001b[0;34m\u001b[0m\n\u001b[1;32m      1\u001b[0m \u001b[0;31m#b)\u001b[0m\u001b[0;34m\u001b[0m\u001b[0;34m\u001b[0m\u001b[0m\n\u001b[0;32m----> 2\u001b[0;31m \u001b[0;32mfrom\u001b[0m \u001b[0mstatsmodels\u001b[0m\u001b[0;34m.\u001b[0m\u001b[0mgraphics\u001b[0m\u001b[0;34m.\u001b[0m\u001b[0mmosaicplot\u001b[0m \u001b[0;32mimport\u001b[0m \u001b[0mmosaic\u001b[0m\u001b[0;34m\u001b[0m\u001b[0m\n\u001b[0m\u001b[1;32m      3\u001b[0m \u001b[0;34m\u001b[0m\u001b[0m\n\u001b[1;32m      4\u001b[0m \u001b[0;31m#Your code:\u001b[0m\u001b[0;34m\u001b[0m\u001b[0;34m\u001b[0m\u001b[0m\n\u001b[1;32m      5\u001b[0m \u001b[0mmosaic\u001b[0m\u001b[0;34m(\u001b[0m\u001b[0mdf\u001b[0m\u001b[0;34m,\u001b[0m\u001b[0;34m[\u001b[0m\u001b[0;34m'bedrooms'\u001b[0m\u001b[0;34m,\u001b[0m\u001b[0;34m'floors'\u001b[0m\u001b[0;34m]\u001b[0m\u001b[0;34m)\u001b[0m\u001b[0;34m\u001b[0m\u001b[0m\n",
      "\u001b[0;31mModuleNotFoundError\u001b[0m: No module named 'statsmodels'"
     ]
    }
   ],
   "source": [
    "#b)\n",
    "from statsmodels.graphics.mosaicplot import mosaic\n",
    "\n",
    "#Your code:\n",
    "mosaic(df,['bedrooms','floors'])\n",
    "\n"
   ]
  },
  {
   "cell_type": "markdown",
   "metadata": {},
   "source": [
    "## Exercise 4\n",
    "\"I am interested in the house with 3 bedrooms, 2 bathrooms and 2 floors\"  \n",
    "a) Compute the basic statistics of apartments fulfilling above constraints.  \n",
    "b) Distinct accepted apartments on any of previously created plots.  \n",
    "c) Find such apartments with best price to footage ratio.  "
   ]
  },
  {
   "cell_type": "code",
   "execution_count": 24,
   "metadata": {
    "collapsed": false
   },
   "outputs": [
    {
     "data": {
      "text/html": [
       "<div>\n",
       "<style scoped>\n",
       "    .dataframe tbody tr th:only-of-type {\n",
       "        vertical-align: middle;\n",
       "    }\n",
       "\n",
       "    .dataframe tbody tr th {\n",
       "        vertical-align: top;\n",
       "    }\n",
       "\n",
       "    .dataframe thead th {\n",
       "        text-align: right;\n",
       "    }\n",
       "</style>\n",
       "<table border=\"1\" class=\"dataframe\">\n",
       "  <thead>\n",
       "    <tr style=\"text-align: right;\">\n",
       "      <th></th>\n",
       "      <th>id</th>\n",
       "      <th>price</th>\n",
       "      <th>bedrooms</th>\n",
       "      <th>bathrooms</th>\n",
       "      <th>sqft_living</th>\n",
       "      <th>sqft_lot</th>\n",
       "      <th>floors</th>\n",
       "      <th>waterfront</th>\n",
       "      <th>view</th>\n",
       "      <th>condition</th>\n",
       "      <th>grade</th>\n",
       "      <th>sqft_above</th>\n",
       "      <th>sqft_basement</th>\n",
       "      <th>yr_built</th>\n",
       "      <th>yr_renovated</th>\n",
       "      <th>zipcode</th>\n",
       "      <th>lat</th>\n",
       "      <th>long</th>\n",
       "      <th>sqft_living15</th>\n",
       "      <th>sqft_lot15</th>\n",
       "    </tr>\n",
       "  </thead>\n",
       "  <tbody>\n",
       "    <tr>\n",
       "      <th>count</th>\n",
       "      <td>1.540000e+02</td>\n",
       "      <td>1.540000e+02</td>\n",
       "      <td>154.0</td>\n",
       "      <td>154.0</td>\n",
       "      <td>154.000000</td>\n",
       "      <td>154.000000</td>\n",
       "      <td>154.0</td>\n",
       "      <td>154.000000</td>\n",
       "      <td>154.000000</td>\n",
       "      <td>154.000000</td>\n",
       "      <td>154.000000</td>\n",
       "      <td>154.000000</td>\n",
       "      <td>154.000000</td>\n",
       "      <td>154.000000</td>\n",
       "      <td>154.000000</td>\n",
       "      <td>154.000000</td>\n",
       "      <td>154.000000</td>\n",
       "      <td>154.000000</td>\n",
       "      <td>154.000000</td>\n",
       "      <td>154.000000</td>\n",
       "    </tr>\n",
       "    <tr>\n",
       "      <th>mean</th>\n",
       "      <td>4.397177e+09</td>\n",
       "      <td>5.144986e+05</td>\n",
       "      <td>3.0</td>\n",
       "      <td>2.0</td>\n",
       "      <td>1850.279221</td>\n",
       "      <td>23678.948052</td>\n",
       "      <td>2.0</td>\n",
       "      <td>0.006494</td>\n",
       "      <td>0.357143</td>\n",
       "      <td>3.435065</td>\n",
       "      <td>7.551948</td>\n",
       "      <td>1717.422078</td>\n",
       "      <td>132.857143</td>\n",
       "      <td>1969.779221</td>\n",
       "      <td>284.863636</td>\n",
       "      <td>98085.577922</td>\n",
       "      <td>47.567376</td>\n",
       "      <td>-122.247091</td>\n",
       "      <td>1802.337662</td>\n",
       "      <td>17545.123377</td>\n",
       "    </tr>\n",
       "    <tr>\n",
       "      <th>std</th>\n",
       "      <td>2.849813e+09</td>\n",
       "      <td>2.497661e+05</td>\n",
       "      <td>0.0</td>\n",
       "      <td>0.0</td>\n",
       "      <td>547.585413</td>\n",
       "      <td>83324.024708</td>\n",
       "      <td>0.0</td>\n",
       "      <td>0.080582</td>\n",
       "      <td>0.919495</td>\n",
       "      <td>0.713322</td>\n",
       "      <td>0.832684</td>\n",
       "      <td>527.473851</td>\n",
       "      <td>248.092631</td>\n",
       "      <td>34.654456</td>\n",
       "      <td>700.057328</td>\n",
       "      <td>48.808788</td>\n",
       "      <td>0.143221</td>\n",
       "      <td>0.150507</td>\n",
       "      <td>453.210930</td>\n",
       "      <td>40404.134611</td>\n",
       "    </tr>\n",
       "    <tr>\n",
       "      <th>min</th>\n",
       "      <td>7.600057e+06</td>\n",
       "      <td>2.090000e+05</td>\n",
       "      <td>3.0</td>\n",
       "      <td>2.0</td>\n",
       "      <td>1020.000000</td>\n",
       "      <td>700.000000</td>\n",
       "      <td>2.0</td>\n",
       "      <td>0.000000</td>\n",
       "      <td>0.000000</td>\n",
       "      <td>2.000000</td>\n",
       "      <td>6.000000</td>\n",
       "      <td>720.000000</td>\n",
       "      <td>0.000000</td>\n",
       "      <td>1900.000000</td>\n",
       "      <td>0.000000</td>\n",
       "      <td>98001.000000</td>\n",
       "      <td>47.194700</td>\n",
       "      <td>-122.519000</td>\n",
       "      <td>850.000000</td>\n",
       "      <td>886.000000</td>\n",
       "    </tr>\n",
       "    <tr>\n",
       "      <th>25%</th>\n",
       "      <td>2.060901e+09</td>\n",
       "      <td>3.769750e+05</td>\n",
       "      <td>3.0</td>\n",
       "      <td>2.0</td>\n",
       "      <td>1452.500000</td>\n",
       "      <td>3414.750000</td>\n",
       "      <td>2.0</td>\n",
       "      <td>0.000000</td>\n",
       "      <td>0.000000</td>\n",
       "      <td>3.000000</td>\n",
       "      <td>7.000000</td>\n",
       "      <td>1402.500000</td>\n",
       "      <td>0.000000</td>\n",
       "      <td>1942.250000</td>\n",
       "      <td>0.000000</td>\n",
       "      <td>98038.500000</td>\n",
       "      <td>47.498800</td>\n",
       "      <td>-122.361750</td>\n",
       "      <td>1452.500000</td>\n",
       "      <td>4020.000000</td>\n",
       "    </tr>\n",
       "    <tr>\n",
       "      <th>50%</th>\n",
       "      <td>3.630010e+09</td>\n",
       "      <td>4.640000e+05</td>\n",
       "      <td>3.0</td>\n",
       "      <td>2.0</td>\n",
       "      <td>1700.000000</td>\n",
       "      <td>5868.500000</td>\n",
       "      <td>2.0</td>\n",
       "      <td>0.000000</td>\n",
       "      <td>0.000000</td>\n",
       "      <td>3.000000</td>\n",
       "      <td>7.000000</td>\n",
       "      <td>1625.000000</td>\n",
       "      <td>0.000000</td>\n",
       "      <td>1984.500000</td>\n",
       "      <td>0.000000</td>\n",
       "      <td>98103.000000</td>\n",
       "      <td>47.584750</td>\n",
       "      <td>-122.299500</td>\n",
       "      <td>1725.000000</td>\n",
       "      <td>6278.000000</td>\n",
       "    </tr>\n",
       "    <tr>\n",
       "      <th>75%</th>\n",
       "      <td>7.184074e+09</td>\n",
       "      <td>5.894625e+05</td>\n",
       "      <td>3.0</td>\n",
       "      <td>2.0</td>\n",
       "      <td>2127.500000</td>\n",
       "      <td>10800.250000</td>\n",
       "      <td>2.0</td>\n",
       "      <td>0.000000</td>\n",
       "      <td>0.000000</td>\n",
       "      <td>4.000000</td>\n",
       "      <td>8.000000</td>\n",
       "      <td>1977.500000</td>\n",
       "      <td>207.500000</td>\n",
       "      <td>1997.500000</td>\n",
       "      <td>0.000000</td>\n",
       "      <td>98122.000000</td>\n",
       "      <td>47.682400</td>\n",
       "      <td>-122.149250</td>\n",
       "      <td>2117.500000</td>\n",
       "      <td>10392.250000</td>\n",
       "    </tr>\n",
       "    <tr>\n",
       "      <th>max</th>\n",
       "      <td>9.829200e+09</td>\n",
       "      <td>1.755000e+06</td>\n",
       "      <td>3.0</td>\n",
       "      <td>2.0</td>\n",
       "      <td>3650.000000</td>\n",
       "      <td>843309.000000</td>\n",
       "      <td>2.0</td>\n",
       "      <td>1.000000</td>\n",
       "      <td>4.000000</td>\n",
       "      <td>5.000000</td>\n",
       "      <td>10.000000</td>\n",
       "      <td>3650.000000</td>\n",
       "      <td>1120.000000</td>\n",
       "      <td>2014.000000</td>\n",
       "      <td>2014.000000</td>\n",
       "      <td>98199.000000</td>\n",
       "      <td>47.777000</td>\n",
       "      <td>-121.709000</td>\n",
       "      <td>3170.000000</td>\n",
       "      <td>273992.000000</td>\n",
       "    </tr>\n",
       "  </tbody>\n",
       "</table>\n",
       "</div>"
      ],
      "text/plain": [
       "                 id         price  bedrooms  bathrooms  sqft_living  \\\n",
       "count  1.540000e+02  1.540000e+02     154.0      154.0   154.000000   \n",
       "mean   4.397177e+09  5.144986e+05       3.0        2.0  1850.279221   \n",
       "std    2.849813e+09  2.497661e+05       0.0        0.0   547.585413   \n",
       "min    7.600057e+06  2.090000e+05       3.0        2.0  1020.000000   \n",
       "25%    2.060901e+09  3.769750e+05       3.0        2.0  1452.500000   \n",
       "50%    3.630010e+09  4.640000e+05       3.0        2.0  1700.000000   \n",
       "75%    7.184074e+09  5.894625e+05       3.0        2.0  2127.500000   \n",
       "max    9.829200e+09  1.755000e+06       3.0        2.0  3650.000000   \n",
       "\n",
       "            sqft_lot  floors  waterfront        view   condition       grade  \\\n",
       "count     154.000000   154.0  154.000000  154.000000  154.000000  154.000000   \n",
       "mean    23678.948052     2.0    0.006494    0.357143    3.435065    7.551948   \n",
       "std     83324.024708     0.0    0.080582    0.919495    0.713322    0.832684   \n",
       "min       700.000000     2.0    0.000000    0.000000    2.000000    6.000000   \n",
       "25%      3414.750000     2.0    0.000000    0.000000    3.000000    7.000000   \n",
       "50%      5868.500000     2.0    0.000000    0.000000    3.000000    7.000000   \n",
       "75%     10800.250000     2.0    0.000000    0.000000    4.000000    8.000000   \n",
       "max    843309.000000     2.0    1.000000    4.000000    5.000000   10.000000   \n",
       "\n",
       "        sqft_above  sqft_basement     yr_built  yr_renovated       zipcode  \\\n",
       "count   154.000000     154.000000   154.000000    154.000000    154.000000   \n",
       "mean   1717.422078     132.857143  1969.779221    284.863636  98085.577922   \n",
       "std     527.473851     248.092631    34.654456    700.057328     48.808788   \n",
       "min     720.000000       0.000000  1900.000000      0.000000  98001.000000   \n",
       "25%    1402.500000       0.000000  1942.250000      0.000000  98038.500000   \n",
       "50%    1625.000000       0.000000  1984.500000      0.000000  98103.000000   \n",
       "75%    1977.500000     207.500000  1997.500000      0.000000  98122.000000   \n",
       "max    3650.000000    1120.000000  2014.000000   2014.000000  98199.000000   \n",
       "\n",
       "              lat        long  sqft_living15     sqft_lot15  \n",
       "count  154.000000  154.000000     154.000000     154.000000  \n",
       "mean    47.567376 -122.247091    1802.337662   17545.123377  \n",
       "std      0.143221    0.150507     453.210930   40404.134611  \n",
       "min     47.194700 -122.519000     850.000000     886.000000  \n",
       "25%     47.498800 -122.361750    1452.500000    4020.000000  \n",
       "50%     47.584750 -122.299500    1725.000000    6278.000000  \n",
       "75%     47.682400 -122.149250    2117.500000   10392.250000  \n",
       "max     47.777000 -121.709000    3170.000000  273992.000000  "
      ]
     },
     "execution_count": 24,
     "metadata": {},
     "output_type": "execute_result"
    }
   ],
   "source": [
    "#a)\n",
    "#Your code:\n",
    "df2 = df.loc[df['bedrooms'] == 3].loc[df['bathrooms'] == 2].loc[df['floors'] == 2]\n",
    "df2.describe()\n",
    "\n",
    "#Hint: pandas.DataFrame.loc"
   ]
  },
  {
   "cell_type": "code",
   "execution_count": 49,
   "metadata": {
    "collapsed": false
   },
   "outputs": [
    {
     "data": {
      "text/plain": [
       "<matplotlib.collections.PathCollection at 0x7fe755d25710>"
      ]
     },
     "execution_count": 49,
     "metadata": {},
     "output_type": "execute_result"
    },
    {
     "data": {
      "image/png": "[encoded data removed]",
      "text/plain": [
       "<Figure size 720x720 with 1 Axes>"
      ]
     },
     "metadata": {
      "needs_background": "light"
     },
     "output_type": "display_data"
    }
   ],
   "source": [
    "#b)\n",
    "#Your code:\n",
    "plt.figure(figsize=(10,10))\n",
    "plt.scatter(df['grade'],df['price'], s=8, c='black')\n",
    "plt.scatter(df2['grade'],df2['price'], s=100, c='yellow')"
   ]
  },
  {
   "cell_type": "code",
   "execution_count": 58,
   "metadata": {
    "collapsed": false
   },
   "outputs": [
    {
     "data": {
      "text/html": [
       "<div>\n",
       "<style scoped>\n",
       "    .dataframe tbody tr th:only-of-type {\n",
       "        vertical-align: middle;\n",
       "    }\n",
       "\n",
       "    .dataframe tbody tr th {\n",
       "        vertical-align: top;\n",
       "    }\n",
       "\n",
       "    .dataframe thead th {\n",
       "        text-align: right;\n",
       "    }\n",
       "</style>\n",
       "<table border=\"1\" class=\"dataframe\">\n",
       "  <thead>\n",
       "    <tr style=\"text-align: right;\">\n",
       "      <th></th>\n",
       "      <th>id</th>\n",
       "      <th>date</th>\n",
       "      <th>price</th>\n",
       "      <th>bedrooms</th>\n",
       "      <th>bathrooms</th>\n",
       "      <th>sqft_living</th>\n",
       "      <th>sqft_lot</th>\n",
       "      <th>floors</th>\n",
       "      <th>waterfront</th>\n",
       "      <th>view</th>\n",
       "      <th>...</th>\n",
       "      <th>grade</th>\n",
       "      <th>sqft_above</th>\n",
       "      <th>sqft_basement</th>\n",
       "      <th>yr_built</th>\n",
       "      <th>yr_renovated</th>\n",
       "      <th>zipcode</th>\n",
       "      <th>lat</th>\n",
       "      <th>long</th>\n",
       "      <th>sqft_living15</th>\n",
       "      <th>sqft_lot15</th>\n",
       "    </tr>\n",
       "  </thead>\n",
       "  <tbody>\n",
       "    <tr>\n",
       "      <th>9704</th>\n",
       "      <td>7452500565</td>\n",
       "      <td>20140829T000000</td>\n",
       "      <td>260000.0</td>\n",
       "      <td>3</td>\n",
       "      <td>2.0</td>\n",
       "      <td>2710</td>\n",
       "      <td>5000</td>\n",
       "      <td>2.0</td>\n",
       "      <td>0</td>\n",
       "      <td>0</td>\n",
       "      <td>...</td>\n",
       "      <td>6</td>\n",
       "      <td>2710</td>\n",
       "      <td>0</td>\n",
       "      <td>1951</td>\n",
       "      <td>0</td>\n",
       "      <td>98126</td>\n",
       "      <td>47.5188</td>\n",
       "      <td>-122.373</td>\n",
       "      <td>850</td>\n",
       "      <td>5000</td>\n",
       "    </tr>\n",
       "    <tr>\n",
       "      <th>11258</th>\n",
       "      <td>7937600262</td>\n",
       "      <td>20140710T000000</td>\n",
       "      <td>379900.0</td>\n",
       "      <td>3</td>\n",
       "      <td>2.0</td>\n",
       "      <td>3110</td>\n",
       "      <td>44967</td>\n",
       "      <td>2.0</td>\n",
       "      <td>0</td>\n",
       "      <td>0</td>\n",
       "      <td>...</td>\n",
       "      <td>9</td>\n",
       "      <td>3020</td>\n",
       "      <td>90</td>\n",
       "      <td>1999</td>\n",
       "      <td>0</td>\n",
       "      <td>98058</td>\n",
       "      <td>47.4343</td>\n",
       "      <td>-122.082</td>\n",
       "      <td>2150</td>\n",
       "      <td>44967</td>\n",
       "    </tr>\n",
       "    <tr>\n",
       "      <th>19880</th>\n",
       "      <td>3832050860</td>\n",
       "      <td>20150319T000000</td>\n",
       "      <td>210000.0</td>\n",
       "      <td>3</td>\n",
       "      <td>2.0</td>\n",
       "      <td>1580</td>\n",
       "      <td>4961</td>\n",
       "      <td>2.0</td>\n",
       "      <td>0</td>\n",
       "      <td>0</td>\n",
       "      <td>...</td>\n",
       "      <td>7</td>\n",
       "      <td>1580</td>\n",
       "      <td>0</td>\n",
       "      <td>2006</td>\n",
       "      <td>0</td>\n",
       "      <td>98042</td>\n",
       "      <td>47.3338</td>\n",
       "      <td>-122.053</td>\n",
       "      <td>2280</td>\n",
       "      <td>5000</td>\n",
       "    </tr>\n",
       "    <tr>\n",
       "      <th>16014</th>\n",
       "      <td>5104450440</td>\n",
       "      <td>20141113T000000</td>\n",
       "      <td>252500.0</td>\n",
       "      <td>3</td>\n",
       "      <td>2.0</td>\n",
       "      <td>1810</td>\n",
       "      <td>10684</td>\n",
       "      <td>2.0</td>\n",
       "      <td>0</td>\n",
       "      <td>0</td>\n",
       "      <td>...</td>\n",
       "      <td>8</td>\n",
       "      <td>1810</td>\n",
       "      <td>0</td>\n",
       "      <td>1987</td>\n",
       "      <td>0</td>\n",
       "      <td>98058</td>\n",
       "      <td>47.4619</td>\n",
       "      <td>-122.153</td>\n",
       "      <td>2140</td>\n",
       "      <td>9657</td>\n",
       "    </tr>\n",
       "    <tr>\n",
       "      <th>20906</th>\n",
       "      <td>3355400242</td>\n",
       "      <td>20141028T000000</td>\n",
       "      <td>274900.0</td>\n",
       "      <td>3</td>\n",
       "      <td>2.0</td>\n",
       "      <td>1936</td>\n",
       "      <td>6612</td>\n",
       "      <td>2.0</td>\n",
       "      <td>0</td>\n",
       "      <td>0</td>\n",
       "      <td>...</td>\n",
       "      <td>7</td>\n",
       "      <td>1936</td>\n",
       "      <td>0</td>\n",
       "      <td>2014</td>\n",
       "      <td>0</td>\n",
       "      <td>98001</td>\n",
       "      <td>47.2602</td>\n",
       "      <td>-122.246</td>\n",
       "      <td>1620</td>\n",
       "      <td>21600</td>\n",
       "    </tr>\n",
       "  </tbody>\n",
       "</table>\n",
       "<p>5 rows × 21 columns</p>\n",
       "</div>"
      ],
      "text/plain": [
       "               id             date     price  bedrooms  bathrooms  \\\n",
       "9704   7452500565  20140829T000000  260000.0         3        2.0   \n",
       "11258  7937600262  20140710T000000  379900.0         3        2.0   \n",
       "19880  3832050860  20150319T000000  210000.0         3        2.0   \n",
       "16014  5104450440  20141113T000000  252500.0         3        2.0   \n",
       "20906  3355400242  20141028T000000  274900.0         3        2.0   \n",
       "\n",
       "       sqft_living  sqft_lot  floors  waterfront  view     ...      grade  \\\n",
       "9704          2710      5000     2.0           0     0     ...          6   \n",
       "11258         3110     44967     2.0           0     0     ...          9   \n",
       "19880         1580      4961     2.0           0     0     ...          7   \n",
       "16014         1810     10684     2.0           0     0     ...          8   \n",
       "20906         1936      6612     2.0           0     0     ...          7   \n",
       "\n",
       "       sqft_above  sqft_basement  yr_built  yr_renovated  zipcode      lat  \\\n",
       "9704         2710              0      1951             0    98126  47.5188   \n",
       "11258        3020             90      1999             0    98058  47.4343   \n",
       "19880        1580              0      2006             0    98042  47.3338   \n",
       "16014        1810              0      1987             0    98058  47.4619   \n",
       "20906        1936              0      2014             0    98001  47.2602   \n",
       "\n",
       "          long  sqft_living15  sqft_lot15  \n",
       "9704  -122.373            850        5000  \n",
       "11258 -122.082           2150       44967  \n",
       "19880 -122.053           2280        5000  \n",
       "16014 -122.153           2140        9657  \n",
       "20906 -122.246           1620       21600  \n",
       "\n",
       "[5 rows x 21 columns]"
      ]
     },
     "execution_count": 58,
     "metadata": {},
     "output_type": "execute_result"
    }
   ],
   "source": [
    "#c)\n",
    "#Your code:\n",
    "\n",
    "df2['price_per_sqft'] = df2.price / df2.sqft_living\n",
    "df2.sort_values('price_per_sqft', ascending=True).drop('price_per_sqft', 1).head(5)\n",
    "#Hint: .loc, .sort_values(), .index"
   ]
  },
  {
   "cell_type": "code",
   "execution_count": null,
   "metadata": {
    "collapsed": true
   },
   "outputs": [],
   "source": []
  }
 ],
 "metadata": {
  "kernelspec": {
   "display_name": "Python 2",
   "language": "python",
   "name": "python2"
  },
  "language_info": {
   "codemirror_mode": {
    "name": "ipython",
    "version": 2
   },
   "file_extension": ".py",
   "mimetype": "text/x-python",
   "name": "python",
   "nbconvert_exporter": "python",
   "pygments_lexer": "ipython2",
   "version": "2.7.11"
  }
 },
 "nbformat": 4,
 "nbformat_minor": 2
}
