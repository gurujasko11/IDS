{
 "cells": [
  {
   "cell_type": "code",
   "execution_count": 2,
   "metadata": {},
   "outputs": [],
   "source": [
    "from scipy.stats import binom\n",
    "import random\n",
    "import numpy as np\n",
    "import matplotlib.pyplot as plt\n"
   ]
  },
  {
   "cell_type": "code",
   "execution_count": 3,
   "metadata": {
    "collapsed": true
   },
   "outputs": [],
   "source": [
    "female_mean = 68\n",
    "female_dev  = 3.5\n",
    "male_mean   = 70\n",
    "male_dev    = 4\n",
    "\n",
    "female_distribution = np.random.normal(female_mean, female_dev, 1000)\n",
    "male_distribution   = np.random.normal(male_mean,   male_dev,   1000)"
   ]
  },
  {
   "cell_type": "code",
   "execution_count": 11,
   "metadata": {},
   "outputs": [],
   "source": [
    "# plt.figure(figsize=(21,13))\n",
    "# female_count, female_bins, female_ignored = plt.hist(female_distribution, 30, density=True)\n",
    "# plt.plot(female_bins, 1/(female_dev * np.sqrt(2 * np.pi)) *\n",
    "#           np.exp( - (female_bins - female_mean)**2 / (2 * female_dev**2) ),\n",
    "#           linewidth=2, color='g')\n",
    "# male_count, male_bins, male_ignored = plt.hist(male_distribution, 30, density=True)\n",
    "# plt.plot(male_bins, 1/(male_dev * np.sqrt(2 * np.pi)) *\n",
    "#           np.exp( - (male_bins - male_mean)**2 / (2 * male_dev**2) ),\n",
    "#           linewidth=2, color='r')\n",
    "# plt.show()"
   ]
  },
  {
   "cell_type": "code",
   "execution_count": 5,
   "metadata": {},
   "outputs": [
    {
     "data": {
      "text/plain": [
       "[<matplotlib.lines.Line2D at 0x7fb3ba92dba8>]"
      ]
     },
     "execution_count": 5,
     "metadata": {},
     "output_type": "execute_result"
    }
   ],
   "source": [
    "female_distribution = sorted(female_distribution)\n",
    "male_distribution   = sorted(male_distribution)\n",
    "female_index = 0\n",
    "male_index   = 0\n",
    "height_array = []\n",
    "female_height_array = []\n",
    "male_height_array   = []\n",
    "female_prob_array   = []\n",
    "male_prob_array     = []\n",
    "height_range = np.arange(round(female_distribution[0], 1), round(male_distribution[len(male_distribution)-1]+1, 1), 1)\n",
    "\n",
    "for i in height_range:\n",
    "    female_count = 0\n",
    "    male_count   = 0\n",
    "    while female_index < len(female_distribution) and female_distribution[female_index] <= i:\n",
    "        female_count += 1\n",
    "        female_index += 1\n",
    "    while male_index < len(male_distribution) and male_distribution[male_index] <= i:\n",
    "        male_count += 1\n",
    "        male_index += 1\n",
    "    height_array.append(i)\n",
    "    female_height_array.append(female_count)\n",
    "    male_height_array  .append(male_count)\n",
    "    if(female_count + male_count == 0):\n",
    "        female_prob_array.append(0)\n",
    "        male_prob_array  .append(0)\n",
    "    else:\n",
    "        female_prob_array.append(female_count/(female_count + male_count))\n",
    "        male_prob_array  .append(male_count/(female_count + male_count))\n",
    "plt.figure(figsize=(21,13))\n",
    "plt.plot(height_array, female_prob_array, color=\"g\")\n",
    "plt.plot(height_array, male_prob_array, color=\"r\")"
   ]
  },
  {
   "cell_type": "code",
   "execution_count": 6,
   "metadata": {
    "collapsed": true
   },
   "outputs": [],
   "source": [
    "def get_prediction(height, prob_treshold):\n",
    "    index = 0\n",
    "    while height_array[index] < height:\n",
    "        index += 1\n",
    "    index -= 1\n",
    "    if female_prob_array[index] >= prob_treshold:\n",
    "        return 'f'\n",
    "    else:\n",
    "        return 'm'"
   ]
  },
  {
   "cell_type": "code",
   "execution_count": 7,
   "metadata": {
    "collapsed": true
   },
   "outputs": [],
   "source": [
    "def get_tpr(prob_treshold):\n",
    "    false_positive = 0\n",
    "    true_positive  = 0\n",
    "    for element in female_distribution:\n",
    "        if(get_prediction(element, prob_treshold) == 'f'):\n",
    "            true_positive += 1\n",
    "        else:\n",
    "            false_positive += 1\n",
    "#     for element in male_distribution:\n",
    "#         if(get_prediction(element, prob_treshold) == 'm'):\n",
    "#             true_positive += 1\n",
    "#         else:\n",
    "#             false_positive += 1\n",
    "#     print(\"true positives rate: \"+str(true_positive/(len(female_distribution) + len(male_distribution))*100)+\n",
    "#           \"%, false positive rate: \"+str(false_positive/(len(female_distribution) + len(male_distribution))*100)+\"%.\")\n",
    "#     return true_positive/(len(female_distribution) + len(male_distribution))\n",
    "    return true_positive/len(female_distribution)"
   ]
  },
  {
   "cell_type": "code",
   "execution_count": 8,
   "metadata": {
    "collapsed": true
   },
   "outputs": [],
   "source": [
    "# https://www.medcalc.org/manual/roc-curves.php\n",
    "\n",
    "min_value = min([min(female_distribution),min(male_distribution)])\n",
    "max_value = max([max(female_distribution),max(male_distribution)])\n",
    "value_range = max_value - min_value\n",
    "tp_array = []\n",
    "fp_array = []\n",
    "tn_array = []\n",
    "fn_array = []\n",
    "\n",
    "tpr_array = []\n",
    "fpr_array = []\n",
    "\n",
    "def get_prediction2(height, treshold_value):\n",
    "    if height < treshold_value:\n",
    "        return 'f'\n",
    "    else:\n",
    "        return 'm'\n",
    "\n",
    "def get_classification_stats(treshold): #treshold in range [0,1]\n",
    "    tp = 0\n",
    "    fp = 0\n",
    "    tn = 0\n",
    "    fn = 0\n",
    "    treshold_value = min_value + (treshold * value_range)\n",
    "    for element in female_distribution:\n",
    "        if(get_prediction2(element, treshold_value) == 'f'):\n",
    "            tp += 1\n",
    "        else:\n",
    "            fn += 1\n",
    "    for element in male_distribution:\n",
    "        if(get_prediction2(element, treshold_value) == 'm'):\n",
    "            tn += 1\n",
    "        else:\n",
    "            fp += 1\n",
    "    tp_array.append(tp)\n",
    "    fp_array.append(fp)\n",
    "    tn_array.append(tn)\n",
    "    fn_array.append(fn)\n",
    "    \n",
    "    tpr_array.append(tp/(tp+fn))\n",
    "    fpr_array.append(1-(tn/(fp+tn)))"
   ]
  },
  {
   "cell_type": "code",
   "execution_count": 9,
   "metadata": {},
   "outputs": [
    {
     "data": {
      "text/plain": [
       "[<matplotlib.lines.Line2D at 0x7fb3ba8a1208>]"
      ]
     },
     "execution_count": 9,
     "metadata": {},
     "output_type": "execute_result"
    }
   ],
   "source": [
    "treshold_range = np.arange(0, 1, 0.01)\n",
    "for treshold in treshold_range:\n",
    "    get_classification_stats(treshold)\n",
    "\n",
    "plt.figure(figsize=(13,13))\n",
    "plt.plot(fpr_array, tpr_array)"
   ]
  },
  {
   "cell_type": "code",
   "execution_count": 10,
   "metadata": {},
   "outputs": [
    {
     "name": "stdout",
     "output_type": "stream",
     "text": [
      "61\n",
      "71.99707134288478\n"
     ]
    },
    {
     "data": {
      "text/plain": [
       "[<matplotlib.lines.Line2D at 0x7fb3ba81ce80>]"
      ]
     },
     "execution_count": 10,
     "metadata": {},
     "output_type": "execute_result"
    }
   ],
   "source": [
    "cumulated_cost = []\n",
    "minimum_cost_index = 0\n",
    "for i in range(0, len(fp_array)):\n",
    "    cumulated_cost.append(2*fp_array[i] + 3*fn_array[i])\n",
    "    if cumulated_cost[minimum_cost_index] > cumulated_cost[len(cumulated_cost)-1]:\n",
    "        minimum_cost_index = len(cumulated_cost)-1\n",
    "\n",
    "minimum_cost_treshold_value = min_value + (treshold_range[minimum_cost_index] * value_range)\n",
    "print(minimum_cost_index)\n",
    "print(minimum_cost_treshold_value)\n",
    "\n",
    "plt.figure(figsize=(13,13))\n",
    "plt.plot(treshold_range, cumulated_cost)\n"
   ]
  },
  {
   "cell_type": "code",
   "execution_count": null,
   "metadata": {
    "collapsed": true
   },
   "outputs": [],
   "source": []
  }
 ],
 "metadata": {
  "kernelspec": {
   "display_name": "Python 3",
   "language": "python",
   "name": "python3"
  },
  "language_info": {
   "codemirror_mode": {
    "name": "ipython",
    "version": 3
   },
   "file_extension": ".py",
   "mimetype": "text/x-python",
   "name": "python",
   "nbconvert_exporter": "python",
   "pygments_lexer": "ipython3",
   "version": "3.6.6"
  }
 },
 "nbformat": 4,
 "nbformat_minor": 2
}
