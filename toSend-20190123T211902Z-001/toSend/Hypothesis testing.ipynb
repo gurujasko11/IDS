{
 "cells": [
  {
   "cell_type": "code",
   "execution_count": 34,
   "metadata": {
    "collapsed": true
   },
   "outputs": [],
   "source": [
    "import pandas as pd\n",
    "import numpy as np\n",
    "import matplotlib.pyplot as plt\n",
    "import math\n",
    "from scipy import stats\n",
    "\n",
    "sample1 = pd.read_csv('sample_1.txt')\n",
    "sample2 = pd.read_csv('sample_2.txt')\n",
    "sample1 = sample1.values.reshape(-1)\n",
    "sample2 = sample2.values.reshape(-1)"
   ]
  },
  {
   "cell_type": "code",
   "execution_count": 35,
   "metadata": {},
   "outputs": [
    {
     "name": "stdout",
     "output_type": "stream",
     "text": [
      "t-statistics: -1.0640400422961207\n",
      "Degrees of Freedom: 124.49277331619771\n"
     ]
    }
   ],
   "source": [
    "# H0: mean1 - mean2 == 0\n",
    "# https://pl.wikipedia.org/wiki/Test_t_Welcha\n",
    "mean_sample1 = np.mean(sample1)\n",
    "mean_sample2 = np.mean(sample2)\n",
    "var_sample1 = np.var(sample1)\n",
    "var_sample2 = np.var(sample2)\n",
    "\n",
    "t = (mean_sample1 - mean_sample2) / math.sqrt(var_sample1**2/len(sample1) + \n",
    "                                              var_sample2**2/len(sample2))\n",
    "v1 = len(sample1) - 1 \n",
    "v2 = len(sample2) - 1 \n",
    "v_numerator = pow(var_sample1*var_sample1/len(sample1)+ var_sample2*var_sample2/len(sample2),2)\n",
    "v_denominator = (pow(var_sample1, 4)/(pow(len(sample1),2)*v1) + pow(var_sample2, 4)/(pow(len(sample2),2)*v2))\n",
    "v = v_numerator / v_denominator\n",
    "print(\"t-statistics: \"+str(t))\n",
    "print(\"Degrees of Freedom: \"+str(v))"
   ]
  },
  {
   "cell_type": "code",
   "execution_count": 36,
   "metadata": {},
   "outputs": [
    {
     "data": {
      "text/plain": [
       "0.3155528729980055"
      ]
     },
     "execution_count": 36,
     "metadata": {},
     "output_type": "execute_result"
    }
   ],
   "source": [
    "# https://pythonfordatascience.org/welch-t-test-python-pandas/\n",
    "def welch_dof(x,y):\n",
    "        dof = (x.var()/x.size + y.var()/y.size)**2 / ((x.var()/x.size)**2 / (x.size-1) + (y.var()/y.size)**2 / (y.size-1))\n",
    "        print(f\"Welch-Satterthwaite Degrees of Freedom = {dof:.4f}\")\n",
    "        \n",
    "def welch_ttest(x, y): \n",
    "    ## Welch-Satterthwaite Degrees of Freedom ##\n",
    "    dof = (x.var()/x.size + y.var()/y.size)**2 / ((x.var()/x.size)**2 / (x.size-1) + (y.var()/y.size)**2 / (y.size-1))\n",
    "   \n",
    "    t, p = stats.ttest_ind(x, y, equal_var = False)\n",
    "    \n",
    "#     print(\"\\n\",\n",
    "#           f\"Welch's t-test= {t:.4f}\", \"\\n\",\n",
    "#           f\"p-value = {p:.4f}\", \"\\n\",\n",
    "#           f\"Welch-Satterthwaite Degrees of Freedom= {dof:.4f}\")\n",
    "    return p\n",
    "\n",
    "welch_ttest(sample1, sample2)"
   ]
  },
  {
   "cell_type": "code",
   "execution_count": 30,
   "metadata": {
    "collapsed": true
   },
   "outputs": [],
   "source": [
    "# Test t-studenta używa się do oszacowania rozkładu prawdopodobieństwa wartości średniej w populacji na podstawie próby.\n",
    "# Poziom istotności v równa się ilość elementów w próbie - 1. https://en.m.wikipedia.org/wiki/File:Student_t_pdf.svg\n",
    "# Po co obliczyłem t?\n",
    "# Na podstawie rozkładu studenta z wyliczonym parametrem v, muszę obliczyć jakie jest prawdopodobieństwo \n",
    "# że liczba wylosowana z tego rozkładu jest mniejsza od t lub większa od -t(two tailed test)\n",
    "# https://www.khanacademy.org/math/ap-statistics/two-sample-inference/two-sample-t-test-means/v/two-sample-t-test-for-difference-of-means\n",
    "# na podstawie wartości t i v wylicza się p-value, co dla 0.05 poziomu istotności pozwala nam nie odrzucić hipotezy zerowej\n"
   ]
  },
  {
   "cell_type": "code",
   "execution_count": 6,
   "metadata": {},
   "outputs": [],
   "source": [
    "sample1_mean = 0.5\n",
    "sample2_mean = 0.75\n",
    "sample1_std = 1\n",
    "sample2_std = 0.75"
   ]
  },
  {
   "cell_type": "code",
   "execution_count": 37,
   "metadata": {},
   "outputs": [],
   "source": [
    "# sample1_distribution = np.random.normal(sample1_mean, sample1_std, 1000)\n",
    "# sample2_distribution = np.random.normal(sample2_mean, sample2_std, 1000)\n",
    "# plt.figure(figsize=(21,13))\n",
    "# sample1_count, sample1_bins, sample1_ignored = plt.hist(sample1_distribution, 30, density=True)\n",
    "# sample2_count, sample2_bins, sample2_ignored = plt.hist(sample2_distribution, 30, density=True)\n",
    "# plt.clf()\n",
    "# plt.plot(sample1_bins, 1/(sample1_std * np.sqrt(2 * np.pi)) *\n",
    "#           np.exp( - (sample1_bins - sample1_mean)**2 / (2 * sample1_std**2) ),\n",
    "#           linewidth=2, color='g')\n",
    "# plt.plot(sample2_bins, 1/(sample2_std * np.sqrt(2 * np.pi)) *\n",
    "#           np.exp( - (sample2_bins - sample2_mean)**2 / (2 * sample2_std**2) ),\n",
    "#           linewidth=2, color='r')\n",
    "# plt.show()"
   ]
  },
  {
   "cell_type": "code",
   "execution_count": 38,
   "metadata": {},
   "outputs": [
    {
     "name": "stdout",
     "output_type": "stream",
     "text": [
      "For significance level of 5.0%, the power of test is: 49.7\n"
     ]
    }
   ],
   "source": [
    "alpha = 0.05\n",
    "under_alpha_count = 0\n",
    "test_size = 1000\n",
    "for i in range(test_size):\n",
    "    sample1_distribution = np.random.normal(sample1_mean, sample1_std, len(sample1))\n",
    "    sample2_distribution = np.random.normal(sample2_mean, sample2_std, len(sample2))\n",
    "    p_value = welch_ttest(sample1_distribution, sample2_distribution)\n",
    "#     if p_value > alpha:\n",
    "#         print(\"WARNING\")\n",
    "#         print(p_value)\n",
    "    if p_value < alpha:\n",
    "        under_alpha_count += 1\n",
    "test_power = (under_alpha_count / test_size)*100\n",
    "print(\"For significance level of \"+ str(alpha*100)+\"%, the power of test is: \"+str(test_power)+\"%\")"
   ]
  },
  {
   "cell_type": "code",
   "execution_count": 40,
   "metadata": {},
   "outputs": [
    {
     "name": "stdout",
     "output_type": "stream",
     "text": [
      "Minimum sample size: 366, test power: 90.3, for significance level 1%\n"
     ]
    }
   ],
   "source": [
    "alpha = 0.01\n",
    "test_size = 100\n",
    "for sample_size in range(10, 1000):\n",
    "    under_alpha_count = 0\n",
    "    for i in range(test_size):\n",
    "        sample1_distribution = np.random.normal(sample1_mean, sample1_std, sample_size)\n",
    "        sample2_distribution = np.random.normal(sample2_mean, sample2_std, sample_size)\n",
    "        p_value = welch_ttest(sample1_distribution, sample2_distribution)\n",
    "        if p_value < alpha:\n",
    "            under_alpha_count += 1\n",
    "    test_power = (under_alpha_count / test_size)*100\n",
    "    if test_power > 90:\n",
    "        print(\"Minimum sample size: \"+str(sample_size)+\", test power: \"+str(test_power)+\", for significance level 1%\")\n",
    "        break\n"
   ]
  },
  {
   "cell_type": "code",
   "execution_count": null,
   "metadata": {
    "collapsed": true
   },
   "outputs": [],
   "source": []
  }
 ],
 "metadata": {
  "kernelspec": {
   "display_name": "Python 3",
   "language": "python",
   "name": "python3"
  },
  "language_info": {
   "codemirror_mode": {
    "name": "ipython",
    "version": 3
   },
   "file_extension": ".py",
   "mimetype": "text/x-python",
   "name": "python",
   "nbconvert_exporter": "python",
   "pygments_lexer": "ipython3",
   "version": "3.6.2"
  }
 },
 "nbformat": 4,
 "nbformat_minor": 2
}
