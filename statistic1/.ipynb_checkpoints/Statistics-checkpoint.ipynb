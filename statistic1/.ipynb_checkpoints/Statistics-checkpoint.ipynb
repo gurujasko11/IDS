{
 "cells": [
  {
   "cell_type": "code",
   "execution_count": 1,
   "metadata": {
    "slideshow": {
     "slide_type": "skip"
    }
   },
   "outputs": [
    {
     "data": {
      "text/html": [
       "<style>\n",
       "td.left {\n",
       "    text-align:left\n",
       "}\n",
       "th.left {\n",
       "    text-align:left\n",
       "}\n",
       "\n",
       ".quote {\n",
       "    font-size: 1.8em;\n",
       "    text-align: left;\n",
       "    font-weight: bold;\n",
       "    padding: 20px;\n",
       "     line-height: 1.2;\n",
       "}\n",
       "\n",
       ".sign {\n",
       "    font-size:1em;\n",
       "    text-align: right;\n",
       "    line-height: 1.2;\n",
       "}\n",
       "\n",
       "\n",
       "</style>\n"
      ],
      "text/plain": [
       "<IPython.core.display.HTML object>"
      ]
     },
     "metadata": {},
     "output_type": "display_data"
    }
   ],
   "source": [
    "%%html\n",
    "<style>\n",
    "td.left {\n",
    "    text-align:left\n",
    "}\n",
    "th.left {\n",
    "    text-align:left\n",
    "}\n",
    "\n",
    ".quote {\n",
    "    font-size: 1.8em;\n",
    "    text-align: left;\n",
    "    font-weight: bold;\n",
    "    padding: 20px;\n",
    "     line-height: 1.2;\n",
    "}\n",
    "\n",
    ".sign {\n",
    "    font-size:1em;\n",
    "    text-align: right;\n",
    "    line-height: 1.2;\n",
    "}\n",
    "\n",
    "\n",
    "</style>"
   ]
  },
  {
   "cell_type": "code",
   "execution_count": 2,
   "metadata": {
    "slideshow": {
     "slide_type": "skip"
    }
   },
   "outputs": [],
   "source": [
    "import pandas as pd\n",
    "import numpy as np\n",
    "import scipy as sp\n",
    "import matplotlib.pyplot as plt\n",
    "from scipy import stats\n",
    "from statsmodels.distributions.empirical_distribution import ECDF\n",
    "import pandas as pd"
   ]
  },
  {
   "cell_type": "code",
   "execution_count": 3,
   "metadata": {
    "slideshow": {
     "slide_type": "skip"
    }
   },
   "outputs": [],
   "source": [
    "%matplotlib inline\n",
    "plt.rcParams[\"figure.figsize\"] = [12,9]\n",
    "\n",
    "dc='#1f77b4' #default color"
   ]
  },
  {
   "cell_type": "markdown",
   "metadata": {},
   "source": [
    "# That dreadful Statistics :) "
   ]
  },
  {
   "cell_type": "markdown",
   "metadata": {
    "slideshow": {
     "slide_type": "slide"
    }
   },
   "source": [
    "<center><img src=\"img/venn.png\"></center>\n",
    "<p style=\"text-align: right;padding: 20px;\">J. VanderPlas, <em>Python Data Science Handbook</em><br>(2016) O'Reilly Media, Inc. <br>\n",
    "<a href=\"http://drewconway.com/zia/2013/3/26/the-data-science-venn-diagramDrew\">Convay blog</a></p>"
   ]
  },
  {
   "cell_type": "markdown",
   "metadata": {
    "slideshow": {
     "slide_type": "slide"
    }
   },
   "source": [
    "# Statistical Inference"
   ]
  },
  {
   "cell_type": "markdown",
   "metadata": {
    "slideshow": {
     "slide_type": "fragment"
    }
   },
   "source": [
    "> Statistical inference is the process of deducing properties of an underlying probability distribution by analysis of data."
   ]
  },
  {
   "cell_type": "markdown",
   "metadata": {
    "slideshow": {
     "slide_type": "fragment"
    }
   },
   "source": [
    "> Statistical inference is concerned with drawing conclusions, from numerical data, about quantities that are not observed."
   ]
  },
  {
   "cell_type": "markdown",
   "metadata": {
    "slideshow": {
     "slide_type": "slide"
    }
   },
   "source": [
    "## Estimation"
   ]
  },
  {
   "cell_type": "markdown",
   "metadata": {
    "slideshow": {
     "slide_type": "fragment"
    }
   },
   "source": [
    "A sample drawn from unknown distribution $f_\\theta(x)$"
   ]
  },
  {
   "cell_type": "markdown",
   "metadata": {
    "slideshow": {
     "slide_type": "fragment"
    }
   },
   "source": [
    "$$x_i,\\quad i=1\\ldots n$$"
   ]
  },
  {
   "cell_type": "markdown",
   "metadata": {
    "slideshow": {
     "slide_type": "fragment"
    }
   },
   "source": [
    "$$T_n(x_1,\\ldots,x_n)$$"
   ]
  },
  {
   "cell_type": "markdown",
   "metadata": {
    "slideshow": {
     "slide_type": "fragment"
    }
   },
   "source": [
    "$$E[x]=\\int x\\, f_\\theta(x) \\text{d}x$$ "
   ]
  },
  {
   "cell_type": "markdown",
   "metadata": {
    "slideshow": {
     "slide_type": "fragment"
    }
   },
   "source": [
    " $$\\bar x = \\frac{1}{n}\\sum_{i=1}^n x_i$$"
   ]
  },
  {
   "cell_type": "markdown",
   "metadata": {
    "slideshow": {
     "slide_type": "slide"
    }
   },
   "source": [
    "Consistent\n",
    "$$T_n(x)\\overset{n\\rightarrow\\infty}{\\longrightarrow}\\theta \\quad(\\text{convergence in probability})$$"
   ]
  },
  {
   "cell_type": "markdown",
   "metadata": {
    "slideshow": {
     "slide_type": "fragment"
    }
   },
   "source": [
    "$$T_n(x_1,\\ldots, x_n) = x_1$$"
   ]
  },
  {
   "cell_type": "markdown",
   "metadata": {
    "slideshow": {
     "slide_type": "slide"
    }
   },
   "source": [
    "\n",
    "\n",
    "Unbiased\n",
    "$$E[T_n(x)]=\\theta$$"
   ]
  },
  {
   "cell_type": "code",
   "execution_count": 4,
   "metadata": {
    "slideshow": {
     "slide_type": "slide"
    }
   },
   "outputs": [],
   "source": [
    "sample_size = 12\n",
    "p=0.5\n",
    "coin = stats.bernoulli(p=p)"
   ]
  },
  {
   "cell_type": "code",
   "execution_count": 5,
   "metadata": {
    "slideshow": {
     "slide_type": "fragment"
    }
   },
   "outputs": [],
   "source": [
    "tosses = coin.rvs(size=sample_size)"
   ]
  },
  {
   "cell_type": "code",
   "execution_count": 6,
   "metadata": {
    "slideshow": {
     "slide_type": "fragment"
    }
   },
   "outputs": [
    {
     "data": {
      "text/plain": [
       "array([1, 0, 1, 1, 1, 0, 0, 0, 0, 0, 0, 1])"
      ]
     },
     "execution_count": 6,
     "metadata": {},
     "output_type": "execute_result"
    }
   ],
   "source": [
    "tosses"
   ]
  },
  {
   "cell_type": "code",
   "execution_count": 7,
   "metadata": {
    "slideshow": {
     "slide_type": "fragment"
    }
   },
   "outputs": [
    {
     "name": "stdout",
     "output_type": "stream",
     "text": [
      "0.4166666666666667\n"
     ]
    }
   ],
   "source": [
    "mean = tosses.mean()\n",
    "print(mean)"
   ]
  },
  {
   "cell_type": "markdown",
   "metadata": {
    "slideshow": {
     "slide_type": "slide"
    }
   },
   "source": [
    "## What is error on $p$ ?? "
   ]
  },
  {
   "cell_type": "code",
   "execution_count": 8,
   "metadata": {
    "slideshow": {
     "slide_type": "fragment"
    }
   },
   "outputs": [
    {
     "name": "stdout",
     "output_type": "stream",
     "text": [
      "0.1486470975026408\n"
     ]
    }
   ],
   "source": [
    "std = tosses.std(ddof=1)/np.sqrt(sample_size)\n",
    "print(std)"
   ]
  },
  {
   "cell_type": "markdown",
   "metadata": {
    "slideshow": {
     "slide_type": "slide"
    }
   },
   "source": [
    "$$X_i \\sim N(\\mu, \\sigma)$$"
   ]
  },
  {
   "cell_type": "markdown",
   "metadata": {
    "slideshow": {
     "slide_type": "fragment"
    }
   },
   "source": [
    "$$M = \\frac{1}{N}\\sum_{i=1}^N X_i$$"
   ]
  },
  {
   "cell_type": "markdown",
   "metadata": {
    "slideshow": {
     "slide_type": "fragment"
    }
   },
   "source": [
    "$$S^2=\\frac{1}{N-1}{\\sum_{i=1}^N (X_i-M)^2}$$"
   ]
  },
  {
   "cell_type": "markdown",
   "metadata": {
    "slideshow": {
     "slide_type": "fragment"
    }
   },
   "source": [
    "$$t=\\frac{M-\\mu}{S/\\sqrt{N}} \\sim t_{N-1}$$"
   ]
  },
  {
   "cell_type": "code",
   "execution_count": 9,
   "metadata": {
    "slideshow": {
     "slide_type": "slide"
    }
   },
   "outputs": [],
   "source": [
    "sample_size = 100\n",
    "tosses = coin.rvs(size=(100000,sample_size))\n",
    "means =  np.mean(tosses, axis=1)\n",
    "stds  =  np.std(tosses, ddof=1, axis=1)"
   ]
  },
  {
   "cell_type": "code",
   "execution_count": 62,
   "metadata": {
    "slideshow": {
     "slide_type": "slide"
    }
   },
   "outputs": [
    {
     "data": {
      "image/png": "[encoded data removed]",
      "text/plain": [
       "<Figure size 864x648 with 1 Axes>"
      ]
     },
     "metadata": {
      "needs_background": "light"
     },
     "output_type": "display_data"
    }
   ],
   "source": [
    "c,edges,_= plt.hist((means-0.5)/stds *np.sqrt(sample_size), bins=46, density=True, align='mid')\n",
    "ts = np.linspace(-4,4,200)\n",
    "plt.plot(ts,stats.t(df=100).pdf(ts))\n",
    "\n",
    "plt.show()"
   ]
  },
  {
   "cell_type": "markdown",
   "metadata": {
    "slideshow": {
     "slide_type": "slide"
    }
   },
   "source": [
    "MSE\n",
    "$$E[(T_n(x)-\\theta)^2]$$"
   ]
  },
  {
   "cell_type": "markdown",
   "metadata": {
    "slideshow": {
     "slide_type": "slide"
    }
   },
   "source": [
    "$$E[T_n(x)]=\\theta+bias$$"
   ]
  },
  {
   "cell_type": "markdown",
   "metadata": {
    "slideshow": {
     "slide_type": "fragment"
    }
   },
   "source": [
    "$$var(T_n(x))=E[(T_n(x)-E[T_n(x)])^2]=E[T_n(x)^2]-E[T_n(x)]^2 $$"
   ]
  },
  {
   "cell_type": "markdown",
   "metadata": {
    "slideshow": {
     "slide_type": "fragment"
    }
   },
   "source": [
    "$$MSE[T_n(x)]=var[T_n(x)]+bias^2$$"
   ]
  },
  {
   "cell_type": "code",
   "execution_count": null,
   "metadata": {},
   "outputs": [],
   "source": []
  },
  {
   "cell_type": "markdown",
   "metadata": {
    "slideshow": {
     "slide_type": "slide"
    }
   },
   "source": [
    "## Maximal likelihood estimators"
   ]
  },
  {
   "cell_type": "markdown",
   "metadata": {
    "slideshow": {
     "slide_type": "fragment"
    }
   },
   "source": [
    "Given $N$ coin tosses $x_1,\\ldots,x_N$ estimate $p$ ($x_i=0,1$ ).  "
   ]
  },
  {
   "cell_type": "markdown",
   "metadata": {
    "slideshow": {
     "slide_type": "fragment"
    }
   },
   "source": [
    "$$P(x_i) = \\begin{cases}\n",
    "p  & x_i=1\\\\\n",
    "1-p & x_i =0\n",
    "\\end{cases}$$"
   ]
  },
  {
   "cell_type": "markdown",
   "metadata": {
    "slideshow": {
     "slide_type": "slide"
    }
   },
   "source": [
    "$$P(x_1,\\ldots, x_N)= P(x_1)\\cdots P(x_N)$$"
   ]
  },
  {
   "cell_type": "markdown",
   "metadata": {
    "slideshow": {
     "slide_type": "fragment"
    }
   },
   "source": [
    "$$\\log P(x_1,\\ldots, x_N)= \\sum_i \\log P(x_i)$$"
   ]
  },
  {
   "cell_type": "markdown",
   "metadata": {
    "slideshow": {
     "slide_type": "slide"
    }
   },
   "source": [
    "$$\\log P(x_1,\\ldots, x_N)= \\sum_i \\log P(x_i)= n \\log p + (N - n)\\log (1 - p)$$"
   ]
  },
  {
   "cell_type": "markdown",
   "metadata": {
    "slideshow": {
     "slide_type": "slide"
    }
   },
   "source": [
    "$$\\frac{\\partial}{\\partial p}\\left(n\\log p + (N-n)\\log(1-p)\\right)=\\left(\\frac{n} {p} - \\frac{(N-n)}{(1-p)}\\right)$$ "
   ]
  },
  {
   "cell_type": "markdown",
   "metadata": {
    "slideshow": {
     "slide_type": "slide"
    }
   },
   "source": [
    "$$\\left(\\frac{n} {p} - \\frac{(N-n)}{(1-p)}\\right)=0$$"
   ]
  },
  {
   "cell_type": "markdown",
   "metadata": {
    "slideshow": {
     "slide_type": "fragment"
    }
   },
   "source": [
    "$$p=\\frac{n}{N}$$"
   ]
  },
  {
   "cell_type": "markdown",
   "metadata": {
    "slideshow": {
     "slide_type": "slide"
    }
   },
   "source": [
    "## Hypothesis testing"
   ]
  },
  {
   "cell_type": "markdown",
   "metadata": {
    "slideshow": {
     "slide_type": "fragment"
    }
   },
   "source": [
    "### Is a coin fair?  "
   ]
  },
  {
   "cell_type": "markdown",
   "metadata": {
    "slideshow": {
     "slide_type": "slide"
    }
   },
   "source": [
    "#### Null hypothesis and p-value"
   ]
  },
  {
   "cell_type": "markdown",
   "metadata": {
    "slideshow": {
     "slide_type": "fragment"
    }
   },
   "source": [
    "Probability of obtaining same or more extreme results for test statistics assuming that null hyphothesis it true. "
   ]
  },
  {
   "cell_type": "markdown",
   "metadata": {
    "slideshow": {
     "slide_type": "fragment"
    }
   },
   "source": [
    "$$P(|t|\\ge|t(D)| \\; |H_0)$$"
   ]
  },
  {
   "cell_type": "markdown",
   "metadata": {
    "slideshow": {
     "slide_type": "fragment"
    }
   },
   "source": [
    "$$P(t>t(D) \\; |H_0)\\qquad\\qquad P(t < t(D) \\; |H_0)$$"
   ]
  },
  {
   "cell_type": "markdown",
   "metadata": {
    "slideshow": {
     "slide_type": "slide"
    }
   },
   "source": [
    "#### I type error and significance level"
   ]
  },
  {
   "cell_type": "markdown",
   "metadata": {
    "slideshow": {
     "slide_type": "fragment"
    }
   },
   "source": [
    "We are rejecting $H_0$ if $P(D|H_0)<\\alpha$"
   ]
  },
  {
   "cell_type": "markdown",
   "metadata": {
    "slideshow": {
     "slide_type": "fragment"
    }
   },
   "source": [
    "Probability of rejecing a true null hyphothesis is less then $\\alpha$. "
   ]
  },
  {
   "cell_type": "markdown",
   "metadata": {
    "slideshow": {
     "slide_type": "slide"
    }
   },
   "source": [
    "$H_0$ - coin is fair"
   ]
  },
  {
   "cell_type": "markdown",
   "metadata": {},
   "source": [
    "$$t = n-\\frac{N}{2}$$ "
   ]
  },
  {
   "cell_type": "code",
   "execution_count": 11,
   "metadata": {
    "slideshow": {
     "slide_type": "fragment"
    }
   },
   "outputs": [],
   "source": [
    "def h_null(n):\n",
    "    return  stats.binom(n,0.5)"
   ]
  },
  {
   "cell_type": "code",
   "execution_count": 12,
   "metadata": {
    "slideshow": {
     "slide_type": "fragment"
    }
   },
   "outputs": [],
   "source": [
    "def p_val(n, nh):\n",
    "    t_D = np.abs(nh-n/2)\n",
    "    ns = np.arange(0,n+1)\n",
    "    return np.sum(h_null(n).pmf(ns[ np.abs(ns-n/2) >= t_D]))\n",
    "\n",
    "p_val=np.vectorize(p_val)"
   ]
  },
  {
   "cell_type": "code",
   "execution_count": 13,
   "metadata": {
    "slideshow": {
     "slide_type": "slide"
    }
   },
   "outputs": [
    {
     "name": "stdout",
     "output_type": "stream",
     "text": [
      "[0.00097656 0.00976563 0.04394531 0.1171875  0.20507813 0.24609375\n",
      " 0.20507813 0.1171875  0.04394531 0.00976563 0.00097656]\n",
      "[0.00195312 0.02148438 0.109375   0.34375    0.75390625 1.\n",
      " 0.75390625 0.34375    0.109375   0.02148438 0.00195312]\n"
     ]
    }
   ],
   "source": [
    "ns = np.arange(0,11)\n",
    "print(h_null(10).pmf(ns))\n",
    "print(p_val(10,ns))"
   ]
  },
  {
   "cell_type": "code",
   "execution_count": 14,
   "metadata": {},
   "outputs": [],
   "source": [
    "pd.options.display.max_columns = 24"
   ]
  },
  {
   "cell_type": "code",
   "execution_count": 15,
   "metadata": {
    "slideshow": {
     "slide_type": "slide"
    }
   },
   "outputs": [
    {
     "name": "stdout",
     "output_type": "stream",
     "text": [
      "             0        1         2         3         4         5         6   \\\n",
      "n      0.000000  1.00000  2.000000  3.000000  4.000000  5.000000  6.000000   \n",
      "p-val  0.000002  0.00004  0.000402  0.002577  0.011818  0.041389  0.115318   \n",
      "\n",
      "             7         8         9     10         11         12         13  \\\n",
      "n      7.000000  8.000000  9.000000  10.0  11.000000  12.000000  13.000000   \n",
      "p-val  0.263176  0.503445  0.823803   1.0   0.823803   0.503445   0.263176   \n",
      "\n",
      "              14         15         16         17         18        19  \\\n",
      "n      14.000000  15.000000  16.000000  17.000000  18.000000  19.00000   \n",
      "p-val   0.115318   0.041389   0.011818   0.002577   0.000402   0.00004   \n",
      "\n",
      "              20  \n",
      "n      20.000000  \n",
      "p-val   0.000002  \n"
     ]
    }
   ],
   "source": [
    "ns=np.arange(0,21)\n",
    "print(pd.DataFrame(np.stack((ns,p_val(20,ns)) ), index=(\"n\",'p-val') )  )"
   ]
  },
  {
   "cell_type": "code",
   "execution_count": 16,
   "metadata": {
    "slideshow": {
     "slide_type": "skip"
    }
   },
   "outputs": [],
   "source": [
    "def nh_crit(alpha, n):\n",
    "    i=0\n",
    "    while p_val(n,i)<alpha:\n",
    "        i+=1\n",
    "    return i-1    \n",
    "nh_crit= np.vectorize(nh_crit)    "
   ]
  },
  {
   "cell_type": "code",
   "execution_count": 17,
   "metadata": {
    "slideshow": {
     "slide_type": "skip"
    }
   },
   "outputs": [],
   "source": [
    "def stem(pl, x,y,pval,alpha = 0.05):\n",
    "    colors = ['r' if p < alpha else dc for p in pval]\n",
    "\n",
    "    markerline, stemlines, baseline = plt.stem(x,y,markerfmt='none')\n",
    "    pl.setp(baseline, color=dc, linewidth=1)\n",
    "    i=0\n",
    "    for s in stemlines:\n",
    "        plt.setp(s,color=colors[i])  \n",
    "        s.set_zorder(10)\n",
    "        i+=1\n",
    "    lcol = pl.scatter(markerline.get_xdata(), markerline.get_ydata(),\n",
    "            marker='o', c=colors, )\n",
    "    lcol.set_zorder(20)"
   ]
  },
  {
   "cell_type": "code",
   "execution_count": 18,
   "metadata": {
    "slideshow": {
     "slide_type": "slide"
    }
   },
   "outputs": [
    {
     "data": {
      "image/png": "[encoded data removed]",
      "text/plain": [
       "<Figure size 864x648 with 1 Axes>"
      ]
     },
     "metadata": {
      "needs_background": "light"
     },
     "output_type": "display_data"
    }
   ],
   "source": [
    "ns = np.arange(0,21)\n",
    "ps = h_null(20).pmf(ns)\n",
    "stem(plt, ns,ps, p_val(20, ns), 0.05)\n",
    "plt.show()"
   ]
  },
  {
   "cell_type": "code",
   "execution_count": 19,
   "metadata": {
    "slideshow": {
     "slide_type": "slide"
    }
   },
   "outputs": [],
   "source": [
    "n_tosses = 20\n",
    "n_trials = 10000\n",
    "sample =  stats.binom(n=n_tosses, p = 0.5).rvs(n_trials)"
   ]
  },
  {
   "cell_type": "code",
   "execution_count": 20,
   "metadata": {
    "slideshow": {
     "slide_type": "fragment"
    }
   },
   "outputs": [
    {
     "name": "stdout",
     "output_type": "stream",
     "text": [
      "382\n",
      "CPU times: user 4.78 s, sys: 24.3 ms, total: 4.8 s\n",
      "Wall time: 4.78 s\n"
     ]
    }
   ],
   "source": [
    "%%time \n",
    "pvs=p_val(n_tosses,sample)\n",
    "print(np.sum(pvs<0.05))"
   ]
  },
  {
   "cell_type": "code",
   "execution_count": 21,
   "metadata": {
    "slideshow": {
     "slide_type": "fragment"
    }
   },
   "outputs": [],
   "source": [
    "sample =  stats.binom(n=n_tosses, p = 0.6).rvs(n_trials)"
   ]
  },
  {
   "cell_type": "code",
   "execution_count": 22,
   "metadata": {
    "slideshow": {
     "slide_type": "fragment"
    }
   },
   "outputs": [
    {
     "data": {
      "text/plain": [
       "1271"
      ]
     },
     "execution_count": 22,
     "metadata": {},
     "output_type": "execute_result"
    }
   ],
   "source": [
    "pvs=p_val(n_tosses,sample)\n",
    "np.sum(pvs<0.05)"
   ]
  },
  {
   "cell_type": "code",
   "execution_count": 23,
   "metadata": {
    "slideshow": {
     "slide_type": "slide"
    }
   },
   "outputs": [
    {
     "data": {
      "image/png": "[encoded data removed]",
      "text/plain": [
       "<Figure size 864x648 with 1 Axes>"
      ]
     },
     "metadata": {
      "needs_background": "light"
     },
     "output_type": "display_data"
    }
   ],
   "source": [
    "ps_1 = stats.binom(n=20,p=0.6).pmf(ns)\n",
    "stem(plt, ns,ps, p_val(20, ns), 0.05)\n",
    "plt.scatter(ns,ps_1,marker='o', color='orange')\n",
    "plt.show()"
   ]
  },
  {
   "cell_type": "code",
   "execution_count": 24,
   "metadata": {
    "slideshow": {
     "slide_type": "slide"
    }
   },
   "outputs": [
    {
     "data": {
      "image/png": "[encoded data removed]",
      "text/plain": [
       "<Figure size 864x648 with 1 Axes>"
      ]
     },
     "metadata": {
      "needs_background": "light"
     },
     "output_type": "display_data"
    }
   ],
   "source": [
    "n=240\n",
    "ns=np.arange(0,n+1)\n",
    "ps_0 = stats.binom(n=n,p=0.5).pmf(ns)\n",
    "ps_1 = stats.binom(n=n,p=0.6).pmf(ns)\n",
    "stem(plt, ns,ps_0, p_val(n, ns), 0.05)\n",
    "plt.scatter(ns,ps_1,marker='o', color='orange')\n",
    "plt.show()"
   ]
  },
  {
   "cell_type": "markdown",
   "metadata": {
    "slideshow": {
     "slide_type": "slide"
    }
   },
   "source": [
    "#### Power of test"
   ]
  },
  {
   "cell_type": "markdown",
   "metadata": {
    "slideshow": {
     "slide_type": "fragment"
    }
   },
   "source": [
    "#### II type error"
   ]
  },
  {
   "cell_type": "markdown",
   "metadata": {
    "slideshow": {
     "slide_type": "fragment"
    }
   },
   "source": [
    "#### Alternative hypothesis"
   ]
  },
  {
   "cell_type": "markdown",
   "metadata": {
    "slideshow": {
     "slide_type": "fragment"
    }
   },
   "source": [
    "What is the probability that under a true $H_1$ hypothesis the null hyphothesis will be accepted ? "
   ]
  },
  {
   "cell_type": "markdown",
   "metadata": {
    "slideshow": {
     "slide_type": "fragment"
    }
   },
   "source": [
    "$$\\beta = \\sum_{\\{D\\in\\mathcal{D}: P(D|H_0)>\\alpha\\}} P(D|H_1)$$"
   ]
  },
  {
   "cell_type": "markdown",
   "metadata": {
    "slideshow": {
     "slide_type": "fragment"
    }
   },
   "source": [
    "$$1-\\beta \\quad \\text{power of test}$$"
   ]
  },
  {
   "cell_type": "code",
   "execution_count": 25,
   "metadata": {
    "slideshow": {
     "slide_type": "slide"
    }
   },
   "outputs": [],
   "source": [
    "def beta(alpha, p,n):\n",
    "    ns = np.arange(0,n+1)\n",
    "    pvs = p_val(n,ns)\n",
    "    return np.sum(stats.binom(p=p,n=n).pmf(ns[pvs>alpha]))\n",
    "beta=np.vectorize(beta)    "
   ]
  },
  {
   "cell_type": "code",
   "execution_count": 26,
   "metadata": {
    "slideshow": {
     "slide_type": "fragment"
    }
   },
   "outputs": [],
   "source": [
    "ns = np.arange(0,500,10)[1:]\n",
    "bs = beta(0.05, 0.6, ns)"
   ]
  },
  {
   "cell_type": "markdown",
   "metadata": {
    "slideshow": {
     "slide_type": "slide"
    }
   },
   "source": [
    "#### Sample size"
   ]
  },
  {
   "cell_type": "code",
   "execution_count": 27,
   "metadata": {
    "slideshow": {
     "slide_type": "slide"
    }
   },
   "outputs": [
    {
     "data": {
      "image/png": "[encoded data removed]",
      "text/plain": [
       "<Figure size 864x648 with 1 Axes>"
      ]
     },
     "metadata": {
      "needs_background": "light"
     },
     "output_type": "display_data"
    }
   ],
   "source": [
    "plt.plot(ns,1-bs,'o')\n",
    "plt.axhline(0.95)\n",
    "plt.axhline(0.99)\n",
    "plt.grid()\n",
    "plt.show()"
   ]
  },
  {
   "cell_type": "code",
   "execution_count": 28,
   "metadata": {
    "slideshow": {
     "slide_type": "fragment"
    }
   },
   "outputs": [
    {
     "data": {
      "text/plain": [
       "10"
      ]
     },
     "execution_count": 28,
     "metadata": {},
     "output_type": "execute_result"
    }
   ],
   "source": [
    "ns[np.argmax(bs>0.95)]"
   ]
  },
  {
   "cell_type": "code",
   "execution_count": 29,
   "metadata": {
    "slideshow": {
     "slide_type": "slide"
    }
   },
   "outputs": [
    {
     "data": {
      "image/png": "[encoded data removed]",
      "text/plain": [
       "<Figure size 864x648 with 1 Axes>"
      ]
     },
     "metadata": {
      "needs_background": "light"
     },
     "output_type": "display_data"
    }
   ],
   "source": [
    "ps = np.linspace(.3,.7,40)\n",
    "bs= beta(0.05,ps,400)\n",
    "plt.plot(ps,1-bs,'o')\n",
    "plt.axhline(0.95)\n",
    "plt.show()"
   ]
  },
  {
   "cell_type": "markdown",
   "metadata": {
    "slideshow": {
     "slide_type": "slide"
    }
   },
   "source": [
    "#### z-test"
   ]
  },
  {
   "cell_type": "code",
   "execution_count": null,
   "metadata": {},
   "outputs": [],
   "source": []
  },
  {
   "cell_type": "markdown",
   "metadata": {
    "slideshow": {
     "slide_type": "fragment"
    }
   },
   "source": [
    "$$z = \\frac{\\bar{X}-\\mu_0}{\\sigma_0}\\sqrt{n} \\sim \\mathcal{N}(0,1)$$"
   ]
  },
  {
   "cell_type": "markdown",
   "metadata": {
    "slideshow": {
     "slide_type": "slide"
    }
   },
   "source": [
    "Binomial with $n$ trials $\\sim N\\left(p \\cdot n,\\sqrt{n\\cdot p\\cdot (1-p)}\\right)$"
   ]
  },
  {
   "cell_type": "code",
   "execution_count": 30,
   "metadata": {},
   "outputs": [],
   "source": [
    "n = 10\n",
    "p = 0.5\n",
    "ns = np.arange(0, n+1)\n",
    "bps = stats.binom(p=p, n=n ).pmf(ns)\n",
    "mu=n*p;\n",
    "sigma =np.sqrt(n*p*(1-p))\n",
    "xs = np.linspace(0,n,100)\n",
    "nps = stats.norm(loc = mu, scale = sigma ).pdf(xs)"
   ]
  },
  {
   "cell_type": "code",
   "execution_count": 31,
   "metadata": {},
   "outputs": [
    {
     "data": {
      "image/png": "[encoded data removed]",
      "text/plain": [
       "<Figure size 864x648 with 1 Axes>"
      ]
     },
     "metadata": {
      "needs_background": "light"
     },
     "output_type": "display_data"
    }
   ],
   "source": [
    "plt.stem(ns,bps, basefmt='b-')\n",
    "plt.plot(xs, nps,'-r')\n",
    "plt.show()"
   ]
  },
  {
   "cell_type": "markdown",
   "metadata": {
    "slideshow": {
     "slide_type": "slide"
    }
   },
   "source": [
    "$$p_{val}(x) = 2*\\frac{1}{\\sqrt{2\\pi}}\\int_{-\\infty}^{-|x|} e^{-\\frac{1}{2}t^2}\\text{d}t = 2*\\Phi(-|x|) = \n",
    "2*Q(|x|)),\\qquad Q(x)=1-\\Phi(x)$$"
   ]
  },
  {
   "cell_type": "markdown",
   "metadata": {},
   "source": [
    "$\\DeclareMathOperator\\erf{erf}$\n",
    "$$\\Phi(x)=\\frac{1}{2}\\left(1+\\erf\\left(\\frac{x}{\\sqrt{2}}\\right)\\right),\\qquad \\erf(x) = \\frac{2}{\\sqrt{\\pi}}\\int_0^x\\,e^{-t^2}\\text{d}t$$"
   ]
  },
  {
   "cell_type": "code",
   "execution_count": 32,
   "metadata": {
    "slideshow": {
     "slide_type": "slide"
    }
   },
   "outputs": [],
   "source": [
    "def p_val_norm(x):\n",
    "    return 2*stats.norm.cdf(-np.abs(x))\n",
    "p_val_norm = np.vectorize(p_val_norm)"
   ]
  },
  {
   "cell_type": "code",
   "execution_count": 33,
   "metadata": {
    "slideshow": {
     "slide_type": "slide"
    }
   },
   "outputs": [],
   "source": [
    "n = 100\n",
    "p = 0.5\n",
    "mu = p*n\n",
    "sigma = np.sqrt(n*p*(1-p))\n",
    "nhs=np.arange(0,1.1*n/3)\n",
    "pvs = p_val(n,nhs) \n",
    "pvs_norm =p_val_norm((nhs-mu)/sigma)"
   ]
  },
  {
   "cell_type": "code",
   "execution_count": 34,
   "metadata": {
    "slideshow": {
     "slide_type": "slide"
    }
   },
   "outputs": [
    {
     "data": {
      "image/png": "[encoded data removed]",
      "text/plain": [
       "<Figure size 864x648 with 1 Axes>"
      ]
     },
     "metadata": {
      "needs_background": "light"
     },
     "output_type": "display_data"
    }
   ],
   "source": [
    "plt.plot(nhs, pvs, 'og')\n",
    "plt.plot(nhs, pvs_norm, 'or')\n",
    "plt.grid()\n",
    "plt.show()"
   ]
  },
  {
   "cell_type": "markdown",
   "metadata": {},
   "source": [
    "$$z = \\frac{\\bar{X}-\\mu}{\\sigma/\\sqrt{n}} $$"
   ]
  },
  {
   "cell_type": "markdown",
   "metadata": {},
   "source": [
    "$$ z_c(\\alpha)  =  Q^{-1}\\left(\\frac{\\alpha}{2}\\right) $$"
   ]
  },
  {
   "cell_type": "code",
   "execution_count": 35,
   "metadata": {},
   "outputs": [],
   "source": [
    "def z_cr(alpha):\n",
    "    return stats.norm.isf(alpha/2)"
   ]
  },
  {
   "cell_type": "code",
   "execution_count": 36,
   "metadata": {},
   "outputs": [],
   "source": [
    "mu_null = 1\n",
    "sigma_null = 0.75\n",
    "X = stats.norm(loc=mu_null, scale = sigma_null)"
   ]
  },
  {
   "cell_type": "code",
   "execution_count": 37,
   "metadata": {},
   "outputs": [],
   "source": [
    "n=24\n",
    "sample = X.rvs(size=n)"
   ]
  },
  {
   "cell_type": "code",
   "execution_count": 38,
   "metadata": {},
   "outputs": [
    {
     "name": "stdout",
     "output_type": "stream",
     "text": [
      "1.7640876547395583\n",
      "0.07771722261448583\n"
     ]
    }
   ],
   "source": [
    "z  = (sample.mean()-mu_null)/(sigma_null/np.sqrt(n))\n",
    "print(z)\n",
    "print(p_val_norm(z))"
   ]
  },
  {
   "cell_type": "code",
   "execution_count": 39,
   "metadata": {},
   "outputs": [],
   "source": [
    "mu = 1.1\n",
    "X = stats.norm(loc=mu, scale = sigma_null)"
   ]
  },
  {
   "cell_type": "code",
   "execution_count": 40,
   "metadata": {},
   "outputs": [
    {
     "data": {
      "text/plain": [
       "1.1204828062387262"
      ]
     },
     "execution_count": 40,
     "metadata": {},
     "output_type": "execute_result"
    }
   ],
   "source": [
    "n=24\n",
    "sample = X.rvs(size=n)\n",
    "sample.mean()"
   ]
  },
  {
   "cell_type": "code",
   "execution_count": 41,
   "metadata": {},
   "outputs": [
    {
     "name": "stdout",
     "output_type": "stream",
     "text": [
      "0.7869903948359811\n",
      "0.43128748895434\n"
     ]
    }
   ],
   "source": [
    "z  = (sample.mean()-mu_null)/(sigma_null/np.sqrt(n))\n",
    "print(z)\n",
    "print(p_val_norm(z))"
   ]
  },
  {
   "cell_type": "markdown",
   "metadata": {},
   "source": [
    "#### z-test power"
   ]
  },
  {
   "cell_type": "markdown",
   "metadata": {},
   "source": [
    "$$1 - \\int_{-x_-}^{x_{+}}\\text{d}x \\, P(x| H_1),\\;\\quad x_{\\pm}=\\mu \\pm \\frac{\\sigma}{\\sqrt{n}}\\, z_{cr}  $$"
   ]
  },
  {
   "cell_type": "markdown",
   "metadata": {},
   "source": [
    "$$ P(x|H_1) \\propto \\mathcal{N}(\\mu_1, \\sigma) $$ "
   ]
  },
  {
   "cell_type": "markdown",
   "metadata": {},
   "source": [
    "$$ \\beta(\\alpha,n)  = \\Phi\\left(\\sqrt{n}\\frac{\\mu_0-\\mu_1}{\\sigma_0}+z_{cr}(\\alpha)\\right)\n",
    "+\\Phi\\left(\\sqrt{n}\\frac{\\mu_0-\\mu_1}{\\sigma_0}-z_{cr}(\\alpha)\\right)$$"
   ]
  },
  {
   "cell_type": "code",
   "execution_count": 42,
   "metadata": {},
   "outputs": [],
   "source": [
    "def beta_loc(delta,s,a,n):\n",
    "    zc = z_cr(a)\n",
    "    z = np.sqrt(n)*delta/s\n",
    "    return stats.norm.cdf(z+zc)-stats.norm.cdf(z-zc)\n",
    "beta_loc = np.vectorize(beta_loc)"
   ]
  },
  {
   "cell_type": "code",
   "execution_count": 43,
   "metadata": {
    "slideshow": {
     "slide_type": "slide"
    }
   },
   "outputs": [],
   "source": [
    "ds = np.linspace(-1.,1,50)\n",
    "bs = 1-beta_loc(ds,sigma_null,0.05, 24 )"
   ]
  },
  {
   "cell_type": "code",
   "execution_count": 44,
   "metadata": {},
   "outputs": [
    {
     "data": {
      "image/png": "[encoded data removed]",
      "text/plain": [
       "<Figure size 864x648 with 1 Axes>"
      ]
     },
     "metadata": {
      "needs_background": "light"
     },
     "output_type": "display_data"
    }
   ],
   "source": [
    "plt.plot(ds,bs)\n",
    "plt.show()"
   ]
  },
  {
   "cell_type": "code",
   "execution_count": 45,
   "metadata": {
    "slideshow": {
     "slide_type": "slide"
    }
   },
   "outputs": [],
   "source": [
    "ass = np.linspace(0.001,0.05,50)\n",
    "bs = 1-beta_loc(.5,sigma_null,ass, 24 )"
   ]
  },
  {
   "cell_type": "code",
   "execution_count": 46,
   "metadata": {},
   "outputs": [
    {
     "data": {
      "image/png": "[encoded data removed]",
      "text/plain": [
       "<Figure size 864x648 with 1 Axes>"
      ]
     },
     "metadata": {
      "needs_background": "light"
     },
     "output_type": "display_data"
    }
   ],
   "source": [
    "plt.plot(ass,bs)\n",
    "plt.show()"
   ]
  },
  {
   "cell_type": "code",
   "execution_count": 47,
   "metadata": {},
   "outputs": [],
   "source": [
    "ns = np.linspace(4,1000,50)\n",
    "bs = 1-beta_loc(0.1,sigma_null,0.05, ns )"
   ]
  },
  {
   "cell_type": "code",
   "execution_count": 48,
   "metadata": {},
   "outputs": [
    {
     "data": {
      "image/png": "[encoded data removed]",
      "text/plain": [
       "<Figure size 864x648 with 1 Axes>"
      ]
     },
     "metadata": {
      "needs_background": "light"
     },
     "output_type": "display_data"
    }
   ],
   "source": [
    "plt.plot(ns,bs)\n",
    "plt.show()"
   ]
  },
  {
   "cell_type": "markdown",
   "metadata": {
    "slideshow": {
     "slide_type": "slide"
    }
   },
   "source": [
    "#### t-test Students distribution"
   ]
  },
  {
   "cell_type": "markdown",
   "metadata": {},
   "source": [
    "$$t = \\frac{\\bar{X}-\\mu}{s/\\sqrt{n}}$$"
   ]
  },
  {
   "cell_type": "markdown",
   "metadata": {},
   "source": [
    "$$s=\\sqrt{\\frac{1}{n-1}\\sum_i(X_i-\\mu)^2}$$"
   ]
  },
  {
   "cell_type": "markdown",
   "metadata": {
    "slideshow": {
     "slide_type": "slide"
    }
   },
   "source": [
    "$t$ follows Student's distribution with $n-1$ degrees of freedom."
   ]
  },
  {
   "cell_type": "code",
   "execution_count": 49,
   "metadata": {
    "slideshow": {
     "slide_type": "slide"
    }
   },
   "outputs": [
    {
     "data": {
      "image/png": "[encoded data removed]",
      "text/plain": [
       "<Figure size 864x648 with 1 Axes>"
      ]
     },
     "metadata": {
      "needs_background": "light"
     },
     "output_type": "display_data"
    }
   ],
   "source": [
    "xs = np.linspace(-5,5,100)\n",
    "\n",
    "for df in range(1,11):\n",
    "    ts = stats.t(df=df).pdf(xs)\n",
    "    plt.plot(xs,ts,'-', c=dc)\n",
    "ts = stats.norm.pdf(xs)\n",
    "plt.plot(xs,ts,'-.r')    \n",
    "plt.show()"
   ]
  },
  {
   "cell_type": "code",
   "execution_count": 50,
   "metadata": {
    "slideshow": {
     "slide_type": "slide"
    }
   },
   "outputs": [
    {
     "data": {
      "text/plain": [
       "0.21176688990744058"
      ]
     },
     "execution_count": 50,
     "metadata": {},
     "output_type": "execute_result"
    }
   ],
   "source": [
    "mu_null = 1\n",
    "sigma_null = 1\n",
    "X = stats.norm(loc=mu_null, scale = sigma_null)\n",
    "sample = X.rvs(size=24)\n",
    "t=(np.mean(sample)-mu_null)/(np.std(sample, ddof=1)/np.sqrt(sample.size))\n",
    "2*(stats.t(df=sample.size-1).sf(np.abs(t)) )"
   ]
  },
  {
   "cell_type": "code",
   "execution_count": 51,
   "metadata": {
    "slideshow": {
     "slide_type": "slide"
    }
   },
   "outputs": [
    {
     "data": {
      "text/plain": [
       "0.24660888261048303"
      ]
     },
     "execution_count": 51,
     "metadata": {},
     "output_type": "execute_result"
    }
   ],
   "source": [
    "mu = 1\n",
    "sigma = 5\n",
    "X = stats.norm(loc=mu, scale = sigma)\n",
    "sample = X.rvs(size = 24)\n",
    "t=(np.mean(sample)-mu_null)/(np.std(sample, ddof=1)/np.sqrt(sample.size))\n",
    "2*(stats.t(df=sample.size-1).sf(np.abs(t)) ) "
   ]
  },
  {
   "cell_type": "code",
   "execution_count": 52,
   "metadata": {},
   "outputs": [
    {
     "data": {
      "text/plain": [
       "2.6300338227036302e-05"
      ]
     },
     "execution_count": 52,
     "metadata": {},
     "output_type": "execute_result"
    }
   ],
   "source": [
    "mu = 2\n",
    "sigma = 1\n",
    "X = stats.norm(loc=mu, scale = sigma)\n",
    "\n",
    "sample = X.rvs(size = 24)\n",
    "\n",
    "t=(np.mean(sample)-mu_null)/(np.std(sample, ddof=1)/np.sqrt(sample.size))\n",
    "2*(stats.t(df=sample.size-1).sf(np.abs(t)) )"
   ]
  },
  {
   "cell_type": "markdown",
   "metadata": {
    "slideshow": {
     "slide_type": "slide"
    }
   },
   "source": [
    "## A/B testing "
   ]
  },
  {
   "cell_type": "code",
   "execution_count": 53,
   "metadata": {
    "slideshow": {
     "slide_type": "fragment"
    }
   },
   "outputs": [],
   "source": [
    "site_A_conversion_rate = 0.035\n",
    "site_B_conversion_rate = 0.045"
   ]
  },
  {
   "cell_type": "code",
   "execution_count": 54,
   "metadata": {
    "slideshow": {
     "slide_type": "fragment"
    }
   },
   "outputs": [],
   "source": [
    "site_A_visitors = 10127\n",
    "site_B_visitors = 10786"
   ]
  },
  {
   "cell_type": "code",
   "execution_count": 55,
   "metadata": {
    "slideshow": {
     "slide_type": "fragment"
    }
   },
   "outputs": [],
   "source": [
    "site_A_coverted_visitors = np.random.binomial(site_A_visitors, site_A_conversion_rate)\n",
    "site_B_coverted_visitors = np.random.binomial(site_B_visitors, site_B_conversion_rate)"
   ]
  },
  {
   "cell_type": "code",
   "execution_count": 56,
   "metadata": {
    "slideshow": {
     "slide_type": "slide"
    }
   },
   "outputs": [
    {
     "name": "stdout",
     "output_type": "stream",
     "text": [
      "343 456\n"
     ]
    }
   ],
   "source": [
    "print(site_A_coverted_visitors, site_B_coverted_visitors)"
   ]
  },
  {
   "cell_type": "markdown",
   "metadata": {
    "slideshow": {
     "slide_type": "slide"
    }
   },
   "source": [
    "## Welch's test"
   ]
  },
  {
   "cell_type": "markdown",
   "metadata": {
    "slideshow": {
     "slide_type": "fragment"
    }
   },
   "source": [
    "$$ t = \\frac{M_1-M_2}{\\sqrt{\\frac{S_1^2}{N_1}+\\frac{S_2^2}{N_2}}}$$"
   ]
  },
  {
   "cell_type": "markdown",
   "metadata": {
    "slideshow": {
     "slide_type": "fragment"
    }
   },
   "source": [
    "$$ \\nu \\approx\n",
    "\\frac\n",
    "{\\left(\\frac{S_1^2}{N_1}+\\frac{S_2^2}{N_2}\\right)^2}\n",
    "{\\frac{S_1^4}{N_1^2(N_1-1)}+\\frac{S_2^4}{N_2^2(N_2-1)}}\n",
    "$$"
   ]
  },
  {
   "cell_type": "code",
   "execution_count": 57,
   "metadata": {
    "slideshow": {
     "slide_type": "slide"
    }
   },
   "outputs": [],
   "source": [
    "def welch_t(N_1,n_1,N_2,n_2):\n",
    "    M_1 = n_1/N_1\n",
    "    M_2 = n_2/N_2\n",
    "    S2_1 = n_1*(1-n_1/N_1)/(N_1-1)\n",
    "    S2_2 = n_2*(1-n_2/N_2)/(N_2-2)\n",
    "    t = (M_1-M_2)/np.sqrt(S2_1/N_1+S2_2/N_2)\n",
    "    nu = ( (S2_1/N_1+S2_2/N_2)**2 )/( S2_1*S2_1/(N_1*N_1*(N_1-1)) + S2_2*S2_2/(N_2*N_2*(N_2-1)))\n",
    "    return t,nu\n",
    "    "
   ]
  },
  {
   "cell_type": "code",
   "execution_count": 58,
   "metadata": {
    "slideshow": {
     "slide_type": "fragment"
    }
   },
   "outputs": [
    {
     "name": "stdout",
     "output_type": "stream",
     "text": [
      "-3.180759147285175 20871.72791971037\n"
     ]
    }
   ],
   "source": [
    "t,nu =  welch_t(site_A_visitors, site_A_coverted_visitors, site_B_visitors, site_B_coverted_visitors)\n",
    "print(t,nu)"
   ]
  },
  {
   "cell_type": "code",
   "execution_count": 59,
   "metadata": {
    "slideshow": {
     "slide_type": "slide"
    }
   },
   "outputs": [
    {
     "data": {
      "text/plain": [
       "0.0007355226508965093"
      ]
     },
     "execution_count": 59,
     "metadata": {},
     "output_type": "execute_result"
    }
   ],
   "source": [
    "stats.t(df=nu).sf(np.abs(t))"
   ]
  },
  {
   "cell_type": "code",
   "execution_count": 60,
   "metadata": {
    "slideshow": {
     "slide_type": "slide"
    }
   },
   "outputs": [
    {
     "name": "stdout",
     "output_type": "stream",
     "text": [
      "0.02\n",
      "0.98\n"
     ]
    }
   ],
   "source": [
    "not_rejected=0\n",
    "n_trials=1000\n",
    "for i in range(n_trials):\n",
    "    site_A_coverted_visitors = np.random.binomial(site_A_visitors, site_A_conversion_rate)\n",
    "    site_B_coverted_visitors = np.random.binomial(site_B_visitors, site_B_conversion_rate)\n",
    "    t,nu =  welch_t(site_A_visitors, site_A_coverted_visitors, site_B_visitors, site_B_coverted_visitors)\n",
    "    if stats.t(df=nu).sf(np.abs(t)) > 0.05:\n",
    "        not_rejected+=1\n",
    "print(not_rejected/n_trials)      \n",
    "print(1-not_rejected/n_trials)"
   ]
  },
  {
   "cell_type": "markdown",
   "metadata": {},
   "source": [
    "## Resampling"
   ]
  },
  {
   "cell_type": "code",
   "execution_count": 65,
   "metadata": {
    "slideshow": {
     "slide_type": "slide"
    }
   },
   "outputs": [],
   "source": [
    "total_visitors = site_A_visitors+site_B_visitors\n",
    "total_converted_visitors = site_A_coverted_visitors+site_B_coverted_visitors\n",
    "pool = np.concatenate((np.ones(total_converted_visitors), np.zeros(total_visitors- total_converted_visitors)))"
   ]
  },
  {
   "cell_type": "code",
   "execution_count": 66,
   "metadata": {
    "slideshow": {
     "slide_type": "fragment"
    }
   },
   "outputs": [],
   "source": [
    "diffs=[]\n",
    "for i in range(10000):\n",
    "    a = np.random.choice(pool, replace=False, size=site_A_visitors).sum()\n",
    "    diff = 2*a - total_converted_visitors\n",
    "    diffs.append(diff)    "
   ]
  },
  {
   "cell_type": "code",
   "execution_count": 67,
   "metadata": {
    "slideshow": {
     "slide_type": "slide"
    }
   },
   "outputs": [
    {
     "data": {
      "image/png": "[encoded data removed]",
      "text/plain": [
       "<Figure size 864x648 with 1 Axes>"
      ]
     },
     "metadata": {
      "needs_background": "light"
     },
     "output_type": "display_data"
    }
   ],
   "source": [
    "real_diff = site_A_coverted_visitors-site_B_coverted_visitors\n",
    "plt.hist(diffs, bins=100, range=(-124.5,-124.5+200 ))\n",
    "plt.axvline(real_diff,c='r')\n",
    "plt.show()"
   ]
  },
  {
   "cell_type": "markdown",
   "metadata": {
    "slideshow": {
     "slide_type": "slide"
    }
   },
   "source": [
    "### Comparing distributions"
   ]
  },
  {
   "cell_type": "code",
   "execution_count": 68,
   "metadata": {
    "slideshow": {
     "slide_type": "fragment"
    }
   },
   "outputs": [],
   "source": [
    "data = pd.read_table(\"Data/dice.txt\", header=None, names=[\"toss\"])"
   ]
  },
  {
   "cell_type": "code",
   "execution_count": 69,
   "metadata": {
    "slideshow": {
     "slide_type": "slide"
    }
   },
   "outputs": [
    {
     "data": {
      "image/png": "[encoded data removed]",
      "text/plain": [
       "<Figure size 864x648 with 1 Axes>"
      ]
     },
     "metadata": {
      "needs_background": "light"
     },
     "output_type": "display_data"
    }
   ],
   "source": [
    "ec='r'\n",
    "counts,bins,_ = plt.hist(data.values, bins=6, range=(0.5, 6.5), rwidth=0.7, density=True)\n",
    "plt.axhline(1/6, linestyle='-.', c=ec)\n",
    "plt.show()                      "
   ]
  },
  {
   "cell_type": "markdown",
   "metadata": {
    "slideshow": {
     "slide_type": "slide"
    }
   },
   "source": [
    "#### Histogram errors "
   ]
  },
  {
   "cell_type": "code",
   "execution_count": 70,
   "metadata": {
    "slideshow": {
     "slide_type": "skip"
    }
   },
   "outputs": [],
   "source": [
    "def hist_errorbars(plt,counts, bins, color):\n",
    "    errors = np.sqrt(counts*(1-counts))/np.sqrt(data.size)\n",
    "    xs=(bins[:-1]+bins[1:])/2\n",
    "    pline,cap,bar=plt.errorbar(xs,counts, errors, fmt='none', capsize=8)\n",
    "    plt.setp(cap[0],c=color)\n",
    "    plt.setp(cap[1],c=color)\n",
    "    plt.setp(bar,linestyle='-.', color=color)"
   ]
  },
  {
   "cell_type": "code",
   "execution_count": 71,
   "metadata": {
    "slideshow": {
     "slide_type": "slide"
    }
   },
   "outputs": [
    {
     "data": {
      "image/png": "[encoded data removed]",
      "text/plain": [
       "<Figure size 864x648 with 1 Axes>"
      ]
     },
     "metadata": {
      "needs_background": "light"
     },
     "output_type": "display_data"
    }
   ],
   "source": [
    "ec='r'\n",
    "counts,bins,_ = plt.hist(data.values, bins=6, range=(0.5, 6.5), rwidth=0.7, density=True)\n",
    "plt.axhline(1/6, linestyle='-.', c=ec)\n",
    "hist_errorbars(plt,counts, bins, ec)\n",
    "plt.show()                      "
   ]
  },
  {
   "cell_type": "markdown",
   "metadata": {
    "slideshow": {
     "slide_type": "slide"
    }
   },
   "source": [
    "#### chi-square $\\chi^2$ goodness of fit test  "
   ]
  },
  {
   "cell_type": "markdown",
   "metadata": {
    "slideshow": {
     "slide_type": "fragment"
    }
   },
   "source": [
    "$$n_i,\\quad i=1\\ldots k,\\qquad \\sum_{i=1}^k n_i = n $$  "
   ]
  },
  {
   "cell_type": "markdown",
   "metadata": {
    "slideshow": {
     "slide_type": "fragment"
    }
   },
   "source": [
    "$$p_i,\\quad i=1\\ldots k$$  "
   ]
  },
  {
   "cell_type": "markdown",
   "metadata": {
    "slideshow": {
     "slide_type": "fragment"
    }
   },
   "source": [
    "$$X^2=\\sum_{i=1}^k\\frac{(n_i-p_i n)^2}{p_i n} \\sim \\chi^2(k-1)$$"
   ]
  },
  {
   "cell_type": "code",
   "execution_count": 72,
   "metadata": {
    "slideshow": {
     "slide_type": "slide"
    }
   },
   "outputs": [
    {
     "data": {
      "text/plain": [
       "5.68"
      ]
     },
     "execution_count": 72,
     "metadata": {},
     "output_type": "execute_result"
    }
   ],
   "source": [
    "counts,_ = np.histogram(data.values, bins=6, range=(0.5,6.5))\n",
    "chi2=np.sum((counts-data.size/6)**2/(data.size/6))\n",
    "chi2"
   ]
  },
  {
   "cell_type": "code",
   "execution_count": 73,
   "metadata": {
    "slideshow": {
     "slide_type": "slide"
    }
   },
   "outputs": [
    {
     "data": {
      "image/png": "[encoded data removed]",
      "text/plain": [
       "<Figure size 864x648 with 1 Axes>"
      ]
     },
     "metadata": {
      "needs_background": "light"
     },
     "output_type": "display_data"
    }
   ],
   "source": [
    "xs=np.linspace(0,20,100)\n",
    "chs = stats.chi2(5).pdf(xs)\n",
    "plt.plot(xs,chs)\n",
    "plt.axvline(chi2)\n",
    "plt.show()"
   ]
  },
  {
   "cell_type": "code",
   "execution_count": 74,
   "metadata": {
    "slideshow": {
     "slide_type": "slide"
    }
   },
   "outputs": [
    {
     "data": {
      "image/png": "[encoded data removed]",
      "text/plain": [
       "<Figure size 864x648 with 1 Axes>"
      ]
     },
     "metadata": {
      "needs_background": "light"
     },
     "output_type": "display_data"
    }
   ],
   "source": [
    "sfs = 1-stats.chi2(5).cdf(xs)\n",
    "plt.plot(xs,sfs)\n",
    "plt.axvline(chi2)\n",
    "plt.axhline(stats.chi2(5).sf(chi2))\n",
    "pv=stats.chi2(5).sf(chi2)\n",
    "plt.text(8,0.8,pv, fontsize=18)\n",
    "plt.show()"
   ]
  },
  {
   "cell_type": "code",
   "execution_count": 75,
   "metadata": {
    "slideshow": {
     "slide_type": "slide"
    }
   },
   "outputs": [
    {
     "data": {
      "text/plain": [
       "Power_divergenceResult(statistic=5.68, pvalue=0.3386115446915832)"
      ]
     },
     "execution_count": 75,
     "metadata": {},
     "output_type": "execute_result"
    }
   ],
   "source": [
    "stats.chisquare(counts, np.ones(6)*200/6)"
   ]
  },
  {
   "cell_type": "code",
   "execution_count": 76,
   "metadata": {},
   "outputs": [
    {
     "data": {
      "text/plain": [
       "Power_divergenceResult(statistic=5.68, pvalue=0.3386115446915832)"
      ]
     },
     "execution_count": 76,
     "metadata": {},
     "output_type": "execute_result"
    }
   ],
   "source": [
    "stats.chisquare(counts)"
   ]
  },
  {
   "cell_type": "code",
   "execution_count": 77,
   "metadata": {
    "slideshow": {
     "slide_type": "slide"
    }
   },
   "outputs": [],
   "source": [
    "data_janek = pd.read_table(\"data/dice_janek.txt\", header=None, names=[\"toss\"])"
   ]
  },
  {
   "cell_type": "code",
   "execution_count": 78,
   "metadata": {
    "slideshow": {
     "slide_type": "slide"
    }
   },
   "outputs": [
    {
     "data": {
      "image/png": "[encoded data removed]",
      "text/plain": [
       "<Figure size 864x648 with 1 Axes>"
      ]
     },
     "metadata": {
      "needs_background": "light"
     },
     "output_type": "display_data"
    }
   ],
   "source": [
    "ec='r'\n",
    "counts,bins,_ =plt.hist(data_janek.values, bins=6, align='mid', rwidth=0.7, range=(0.5,6.5), density=True)\n",
    "plt.axhline(1/6, linestyle='-.', c=ec)\n",
    "hist_errorbars(plt, counts, bins, ec)\n",
    "plt.show()"
   ]
  },
  {
   "cell_type": "code",
   "execution_count": 79,
   "metadata": {
    "slideshow": {
     "slide_type": "slide"
    }
   },
   "outputs": [
    {
     "data": {
      "text/plain": [
       "Power_divergenceResult(statistic=7.159999999999999, pvalue=0.20901027865188368)"
      ]
     },
     "execution_count": 79,
     "metadata": {},
     "output_type": "execute_result"
    }
   ],
   "source": [
    "counts,_ = np.histogram(data_janek.values, bins=6, range=(0.5,6.5))\n",
    "stats.chisquare(counts)"
   ]
  },
  {
   "cell_type": "markdown",
   "metadata": {
    "slideshow": {
     "slide_type": "slide"
    }
   },
   "source": [
    "### Power of the chi^2 test"
   ]
  },
  {
   "cell_type": "code",
   "execution_count": 80,
   "metadata": {},
   "outputs": [
    {
     "name": "stdout",
     "output_type": "stream",
     "text": [
      "[ 0.          0.16666667  0.         -0.16666667  0.          0.        ]\n"
     ]
    }
   ],
   "source": [
    "p=np.asarray([6,7,6,5,6,6])/36\n",
    "print((p/(1/6*np.ones(6))-1))\n"
   ]
  },
  {
   "cell_type": "code",
   "execution_count": 81,
   "metadata": {
    "slideshow": {
     "slide_type": "slide"
    }
   },
   "outputs": [],
   "source": [
    "n=500\n",
    "dice = stats.multinomial(p=p, n=n)\n",
    "rsv =  dice.rvs(size=10000)\n",
    "chi2s = stats.chisquare(rsv,axis=1)"
   ]
  },
  {
   "cell_type": "code",
   "execution_count": 82,
   "metadata": {
    "slideshow": {
     "slide_type": "slide"
    }
   },
   "outputs": [
    {
     "data": {
      "image/png": "[encoded data removed]",
      "text/plain": [
       "<Figure size 864x648 with 1 Axes>"
      ]
     },
     "metadata": {
      "needs_background": "light"
     },
     "output_type": "display_data"
    }
   ],
   "source": [
    "plt.hist(chi2s[0], bins=100, range=(0,50), histtype='step', density=True)\n",
    "plt.plot(np.linspace(0,25,100), stats.chi2(5).pdf(np.linspace(0,25,100)))\n",
    "plt.axvline(stats.chi2(5).isf(0.05))\n",
    "plt.show()"
   ]
  },
  {
   "cell_type": "code",
   "execution_count": 83,
   "metadata": {
    "slideshow": {
     "slide_type": "slide"
    }
   },
   "outputs": [
    {
     "data": {
      "image/png": "[encoded data removed]",
      "text/plain": [
       "<Figure size 864x648 with 1 Axes>"
      ]
     },
     "metadata": {
      "needs_background": "light"
     },
     "output_type": "display_data"
    }
   ],
   "source": [
    "plt.hist(chi2s[0], bins=100, range=(0,50), histtype='step', density=True, cumulative=-1)\n",
    "plt.plot(np.linspace(0,25,100), stats.chi2(5).sf(np.linspace(0,25,100)))\n",
    "plt.axvline(stats.chi2(5).isf(0.05))\n",
    "plt.axhline(0.05)\n",
    "plt.axhline(0.95)\n",
    "plt.show()"
   ]
  },
  {
   "cell_type": "markdown",
   "metadata": {
    "slideshow": {
     "slide_type": "slide"
    }
   },
   "source": [
    "#### Kolmogorov Smirnov test"
   ]
  },
  {
   "cell_type": "markdown",
   "metadata": {},
   "source": [
    "$$D = \\sup_x |F_0(X)-G(X)|$$"
   ]
  },
  {
   "cell_type": "code",
   "execution_count": 84,
   "metadata": {
    "slideshow": {
     "slide_type": "slide"
    }
   },
   "outputs": [],
   "source": [
    "sample = stats.norm.rvs(size=40)\n",
    "ecdf=ECDF(sample)"
   ]
  },
  {
   "cell_type": "code",
   "execution_count": 85,
   "metadata": {
    "slideshow": {
     "slide_type": "slide"
    }
   },
   "outputs": [
    {
     "data": {
      "image/png": "[encoded data removed]",
      "text/plain": [
       "<Figure size 864x648 with 1 Axes>"
      ]
     },
     "metadata": {
      "needs_background": "light"
     },
     "output_type": "display_data"
    }
   ],
   "source": [
    "s=np.linspace(-5,5,100)\n",
    "es = ecdf(xs)\n",
    "ts = stats.norm.cdf(xs)\n",
    "plt.plot(xs,es,'-')\n",
    "plt.plot(xs,ts,'-')\n",
    "plt.show()"
   ]
  },
  {
   "cell_type": "code",
   "execution_count": 86,
   "metadata": {
    "slideshow": {
     "slide_type": "slide"
    }
   },
   "outputs": [
    {
     "data": {
      "text/plain": [
       "KstestResult(statistic=0.19087520679752168, pvalue=0.09466546561629863)"
      ]
     },
     "execution_count": 86,
     "metadata": {},
     "output_type": "execute_result"
    }
   ],
   "source": [
    "stats.kstest(sample,'norm')"
   ]
  },
  {
   "cell_type": "code",
   "execution_count": 87,
   "metadata": {
    "slideshow": {
     "slide_type": "fragment"
    }
   },
   "outputs": [
    {
     "data": {
      "text/plain": [
       "KstestResult(statistic=0.08238304276339925, pvalue=0.1252144200823917)"
      ]
     },
     "execution_count": 87,
     "metadata": {},
     "output_type": "execute_result"
    }
   ],
   "source": [
    "p=0.6\n",
    "n=200\n",
    "sample = (stats.binom(p=p,n=n).rvs(size=200)-p*n)/np.sqrt(n*p*(1-p))\n",
    "stats.kstest(sample,'norm')"
   ]
  },
  {
   "cell_type": "code",
   "execution_count": 88,
   "metadata": {
    "slideshow": {
     "slide_type": "subslide"
    }
   },
   "outputs": [
    {
     "data": {
      "image/png": "[encoded data removed]",
      "text/plain": [
       "<Figure size 864x648 with 1 Axes>"
      ]
     },
     "metadata": {
      "needs_background": "light"
     },
     "output_type": "display_data"
    }
   ],
   "source": [
    "ecdf=ECDF(sample)\n",
    "\n",
    "xs=np.linspace(-5,5,100)\n",
    "es = ecdf(xs)\n",
    "ts = stats.norm.cdf(xs)\n",
    "\n",
    "plt.plot(xs,es,'-')\n",
    "plt.plot(xs,ts,'-')\n",
    "plt.show()"
   ]
  },
  {
   "cell_type": "code",
   "execution_count": 89,
   "metadata": {
    "slideshow": {
     "slide_type": "skip"
    }
   },
   "outputs": [],
   "source": [
    "x = np.sort(sample)\n",
    "gx = stats.norm.cdf(x)\n",
    "fx = ecdf(x)"
   ]
  },
  {
   "cell_type": "code",
   "execution_count": 90,
   "metadata": {
    "slideshow": {
     "slide_type": "skip"
    }
   },
   "outputs": [
    {
     "data": {
      "text/plain": [
       "0.0823830427633992"
      ]
     },
     "execution_count": 90,
     "metadata": {},
     "output_type": "execute_result"
    }
   ],
   "source": [
    "np.max(np.max(np.stack((gx[1:]-fx[1:], gx[1:]-fx[:-1]), axis=1), axis =1))"
   ]
  },
  {
   "cell_type": "code",
   "execution_count": 91,
   "metadata": {
    "slideshow": {
     "slide_type": "slide"
    }
   },
   "outputs": [
    {
     "data": {
      "image/png": "[encoded data removed]",
      "text/plain": [
       "<Figure size 864x648 with 1 Axes>"
      ]
     },
     "metadata": {
      "needs_background": "light"
     },
     "output_type": "display_data"
    }
   ],
   "source": [
    "xs=np.linspace(stats.kstwobign.ppf(0.01),stats.kstwobign.ppf(0.99),100)\n",
    "ks=stats.kstwobign.pdf(xs)\n",
    "plt.plot(xs,ks)\n",
    "plt.show()"
   ]
  },
  {
   "cell_type": "markdown",
   "metadata": {
    "slideshow": {
     "slide_type": "slide"
    }
   },
   "source": [
    "## ASA Statement on Statistical Significance and P-Values"
   ]
  },
  {
   "cell_type": "markdown",
   "metadata": {
    "slideshow": {
     "slide_type": "slide"
    }
   },
   "source": [
    "P-values can indicate how incompatible the data are with a specified model."
   ]
  },
  {
   "cell_type": "markdown",
   "metadata": {
    "slideshow": {
     "slide_type": "slide"
    }
   },
   "source": [
    "P-values do not measure the probability that the studied hyphothesis is true, or the probability that the data were produced by random chance alone."
   ]
  },
  {
   "cell_type": "markdown",
   "metadata": {
    "slideshow": {
     "slide_type": "slide"
    }
   },
   "source": [
    "Scientific conclusions and business or policy decisions shuld not be based only on whether a p-value passes a specific threshold."
   ]
  },
  {
   "cell_type": "markdown",
   "metadata": {
    "slideshow": {
     "slide_type": "slide"
    }
   },
   "source": [
    "Proper inference requires full reporting and transparency."
   ]
  },
  {
   "cell_type": "markdown",
   "metadata": {
    "slideshow": {
     "slide_type": "slide"
    }
   },
   "source": [
    "A p-value, or statistcal significance, does not measure teh size of an effect or the importance of a result."
   ]
  },
  {
   "cell_type": "markdown",
   "metadata": {
    "slideshow": {
     "slide_type": "slide"
    }
   },
   "source": [
    "By itself, a p-value does not provide a good measure of evidence regarding model or hypothesis."
   ]
  },
  {
   "cell_type": "code",
   "execution_count": null,
   "metadata": {},
   "outputs": [],
   "source": []
  },
  {
   "cell_type": "code",
   "execution_count": null,
   "metadata": {},
   "outputs": [],
   "source": []
  }
 ],
 "metadata": {
  "celltoolbar": "Slideshow",
  "kernelspec": {
   "display_name": "Python 3",
   "language": "python",
   "name": "python3"
  },
  "language_info": {
   "codemirror_mode": {
    "name": "ipython",
    "version": 3
   },
   "file_extension": ".py",
   "mimetype": "text/x-python",
   "name": "python",
   "nbconvert_exporter": "python",
   "pygments_lexer": "ipython3",
   "version": "3.6.6"
  }
 },
 "nbformat": 4,
 "nbformat_minor": 2
}
